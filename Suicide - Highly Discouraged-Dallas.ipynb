{
 "cells": [
  {
   "cell_type": "markdown",
   "metadata": {},
   "source": [
    "<h1>Approximately 40,000 people die as a result of suicide each year in the United States, making it the 10th leading cause of death in the nation.</h1>"
   ]
  },
  {
   "cell_type": "markdown",
   "metadata": {},
   "source": [
    "<h3>First, I was curious if I could find a link to social media.</h3>"
   ]
  },
  {
   "cell_type": "code",
   "execution_count": null,
   "metadata": {},
   "outputs": [],
   "source": [
    "from splinter import Browser\n",
    "from splinter.exceptions import ElementDoesNotExist\n",
    "from bs4 import BeautifulSoup"
   ]
  },
  {
   "cell_type": "code",
   "execution_count": 27,
   "metadata": {},
   "outputs": [
    {
     "name": "stdout",
     "output_type": "stream",
     "text": [
      "/usr/local/bin/chromedriver\r\n"
     ]
    }
   ],
   "source": [
    "!which chromedriver"
   ]
  },
  {
   "cell_type": "code",
   "execution_count": 28,
   "metadata": {},
   "outputs": [],
   "source": [
    "executable_path = {'executable_path': '/usr/local/bin/chromedriver'}\n",
    "browser = Browser('chrome', **executable_path, headless=False)"
   ]
  },
  {
   "cell_type": "code",
   "execution_count": 29,
   "metadata": {},
   "outputs": [],
   "source": [
    "import pandas as pd"
   ]
  },
  {
   "cell_type": "code",
   "execution_count": 30,
   "metadata": {},
   "outputs": [
    {
     "data": {
      "text/html": [
       "<div>\n",
       "<style scoped>\n",
       "    .dataframe tbody tr th:only-of-type {\n",
       "        vertical-align: middle;\n",
       "    }\n",
       "\n",
       "    .dataframe tbody tr th {\n",
       "        vertical-align: top;\n",
       "    }\n",
       "\n",
       "    .dataframe thead th {\n",
       "        text-align: right;\n",
       "    }\n",
       "</style>\n",
       "<table border=\"1\" class=\"dataframe\">\n",
       "  <thead>\n",
       "    <tr style=\"text-align: right;\">\n",
       "      <th></th>\n",
       "      <th>state</th>\n",
       "    </tr>\n",
       "  </thead>\n",
       "  <tbody>\n",
       "    <tr>\n",
       "      <th>0</th>\n",
       "      <td>alabama</td>\n",
       "    </tr>\n",
       "    <tr>\n",
       "      <th>1</th>\n",
       "      <td>alaska</td>\n",
       "    </tr>\n",
       "    <tr>\n",
       "      <th>2</th>\n",
       "      <td>arizona</td>\n",
       "    </tr>\n",
       "    <tr>\n",
       "      <th>3</th>\n",
       "      <td>arkansas</td>\n",
       "    </tr>\n",
       "    <tr>\n",
       "      <th>4</th>\n",
       "      <td>california</td>\n",
       "    </tr>\n",
       "  </tbody>\n",
       "</table>\n",
       "</div>"
      ],
      "text/plain": [
       "        state\n",
       "0     alabama\n",
       "1      alaska\n",
       "2     arizona\n",
       "3    arkansas\n",
       "4  california"
      ]
     },
     "execution_count": 30,
     "metadata": {},
     "output_type": "execute_result"
    }
   ],
   "source": [
    "states = pd.read_csv('states.csv')\n",
    "states.head()"
   ]
  },
  {
   "cell_type": "code",
   "execution_count": 37,
   "metadata": {},
   "outputs": [],
   "source": [
    "stat_list = []\n",
    "state_list = []\n",
    "\n",
    "state_list = states['state'].tolist()"
   ]
  },
  {
   "cell_type": "markdown",
   "metadata": {},
   "source": [
    "<h3>I tried to create a pseudo-API guessing that I could cycle through the URL with state name as a variable\n",
    "I was wrong.</h3>"
   ]
  },
  {
   "cell_type": "code",
   "execution_count": null,
   "metadata": {},
   "outputs": [],
   "source": [
    "url_list = []\n",
    "for state in state_list:\n",
    "    url_list.append(f'https://napoleoncat.com/blog/en/instagram-users-in-{state}-state-in-the-us-november-2016/?utm_source=NapoBlog&utm_campaign=201612_Insta_states_in_USA&utm_medium=owned&utm_content=art')"
   ]
  },
  {
   "cell_type": "code",
   "execution_count": 5,
   "metadata": {},
   "outputs": [],
   "source": [
    "# for url in url_list:\n",
    "#     browser.visit(url)\n",
    "#     html = browser.html\n",
    "#     soup = BeautifulSoup(html, 'html.parser')\n",
    "\n",
    "#     find_div = soup.find('div', class_='intro')\n",
    "\n",
    "#     find_para = find_div.find('p').getText()\n",
    "\n",
    "#     stat_list.append(find_para)\n",
    "\n",
    "# print(states_and_stats)\n",
    "#try:\n",
    "#     for title_url in titles_and_urls:\n",
    "#         browser.click_link_by_partial_text('next')\n",
    "# except ElementDoesNotExist:\n",
    "#     print(\"Scraping Complete\")"
   ]
  },
  {
   "cell_type": "markdown",
   "metadata": {},
   "source": [
    "<h2>The only data I could find by state for IG was a site called NapoleonCat.com, which had 2016 data available page by page.</h2>"
   ]
  },
  {
   "cell_type": "code",
   "execution_count": 42,
   "metadata": {},
   "outputs": [
    {
     "data": {
      "text/plain": [
       "[<p>There are 1.2M Instagram users in Alabama state in the United States. Only 41% are male. Over 80% are younger than 45.</p>,\n",
       " <p><img alt=\"\" class=\"aligncenter size-full wp-image-8171\" height=\"1200\" sizes=\"(max-width: 1200px) 100vw, 1200px\" src=\"https://napoleoncat.com/blog/wp-content/uploads/2018/12/napoleon_1200x1200_selfies3-1.jpg\" srcset=\"https://napoleoncat.com/blog/wp-content/uploads/2018/12/napoleon_1200x1200_selfies3-1.jpg 1200w, https://napoleoncat.com/blog/wp-content/uploads/2018/12/napoleon_1200x1200_selfies3-1-150x150.jpg 150w, https://napoleoncat.com/blog/wp-content/uploads/2018/12/napoleon_1200x1200_selfies3-1-300x300.jpg 300w, https://napoleoncat.com/blog/wp-content/uploads/2018/12/napoleon_1200x1200_selfies3-1-768x768.jpg 768w, https://napoleoncat.com/blog/wp-content/uploads/2018/12/napoleon_1200x1200_selfies3-1-1024x1024.jpg 1024w, https://napoleoncat.com/blog/wp-content/uploads/2018/12/napoleon_1200x1200_selfies3-1-624x624.jpg 624w\" width=\"1200\"/></p>,\n",
       " <p><img alt=\"\" class=\"aligncenter size-full wp-image-8171\" height=\"1200\" sizes=\"(max-width: 1200px) 100vw, 1200px\" src=\"https://napoleoncat.com/blog/wp-content/uploads/2018/12/napoleon_1200x1200_selfies3-1.jpg\" srcset=\"https://napoleoncat.com/blog/wp-content/uploads/2018/12/napoleon_1200x1200_selfies3-1.jpg 1200w, https://napoleoncat.com/blog/wp-content/uploads/2018/12/napoleon_1200x1200_selfies3-1-150x150.jpg 150w, https://napoleoncat.com/blog/wp-content/uploads/2018/12/napoleon_1200x1200_selfies3-1-300x300.jpg 300w, https://napoleoncat.com/blog/wp-content/uploads/2018/12/napoleon_1200x1200_selfies3-1-768x768.jpg 768w, https://napoleoncat.com/blog/wp-content/uploads/2018/12/napoleon_1200x1200_selfies3-1-1024x1024.jpg 1024w, https://napoleoncat.com/blog/wp-content/uploads/2018/12/napoleon_1200x1200_selfies3-1-624x624.jpg 624w\" width=\"1200\"/></p>,\n",
       " <p><img alt=\"\" class=\"aligncenter size-full wp-image-8171\" height=\"1200\" sizes=\"(max-width: 1200px) 100vw, 1200px\" src=\"https://napoleoncat.com/blog/wp-content/uploads/2018/12/napoleon_1200x1200_selfies3-1.jpg\" srcset=\"https://napoleoncat.com/blog/wp-content/uploads/2018/12/napoleon_1200x1200_selfies3-1.jpg 1200w, https://napoleoncat.com/blog/wp-content/uploads/2018/12/napoleon_1200x1200_selfies3-1-150x150.jpg 150w, https://napoleoncat.com/blog/wp-content/uploads/2018/12/napoleon_1200x1200_selfies3-1-300x300.jpg 300w, https://napoleoncat.com/blog/wp-content/uploads/2018/12/napoleon_1200x1200_selfies3-1-768x768.jpg 768w, https://napoleoncat.com/blog/wp-content/uploads/2018/12/napoleon_1200x1200_selfies3-1-1024x1024.jpg 1024w, https://napoleoncat.com/blog/wp-content/uploads/2018/12/napoleon_1200x1200_selfies3-1-624x624.jpg 624w\" width=\"1200\"/></p>,\n",
       " <p>There are 12.2M Instagram users in California state in the United States. 80% of them are aged 18-44 and 56% are female.</p>,\n",
       " <p><img alt=\"\" class=\"aligncenter size-full wp-image-8171\" height=\"1200\" sizes=\"(max-width: 1200px) 100vw, 1200px\" src=\"https://napoleoncat.com/blog/wp-content/uploads/2018/12/napoleon_1200x1200_selfies3-1.jpg\" srcset=\"https://napoleoncat.com/blog/wp-content/uploads/2018/12/napoleon_1200x1200_selfies3-1.jpg 1200w, https://napoleoncat.com/blog/wp-content/uploads/2018/12/napoleon_1200x1200_selfies3-1-150x150.jpg 150w, https://napoleoncat.com/blog/wp-content/uploads/2018/12/napoleon_1200x1200_selfies3-1-300x300.jpg 300w, https://napoleoncat.com/blog/wp-content/uploads/2018/12/napoleon_1200x1200_selfies3-1-768x768.jpg 768w, https://napoleoncat.com/blog/wp-content/uploads/2018/12/napoleon_1200x1200_selfies3-1-1024x1024.jpg 1024w, https://napoleoncat.com/blog/wp-content/uploads/2018/12/napoleon_1200x1200_selfies3-1-624x624.jpg 624w\" width=\"1200\"/></p>,\n",
       " <p><img alt=\"\" class=\"aligncenter size-full wp-image-8171\" height=\"1200\" sizes=\"(max-width: 1200px) 100vw, 1200px\" src=\"https://napoleoncat.com/blog/wp-content/uploads/2018/12/napoleon_1200x1200_selfies3-1.jpg\" srcset=\"https://napoleoncat.com/blog/wp-content/uploads/2018/12/napoleon_1200x1200_selfies3-1.jpg 1200w, https://napoleoncat.com/blog/wp-content/uploads/2018/12/napoleon_1200x1200_selfies3-1-150x150.jpg 150w, https://napoleoncat.com/blog/wp-content/uploads/2018/12/napoleon_1200x1200_selfies3-1-300x300.jpg 300w, https://napoleoncat.com/blog/wp-content/uploads/2018/12/napoleon_1200x1200_selfies3-1-768x768.jpg 768w, https://napoleoncat.com/blog/wp-content/uploads/2018/12/napoleon_1200x1200_selfies3-1-1024x1024.jpg 1024w, https://napoleoncat.com/blog/wp-content/uploads/2018/12/napoleon_1200x1200_selfies3-1-624x624.jpg 624w\" width=\"1200\"/></p>,\n",
       " <p><img alt=\"\" class=\"aligncenter size-full wp-image-8171\" height=\"1200\" sizes=\"(max-width: 1200px) 100vw, 1200px\" src=\"https://napoleoncat.com/blog/wp-content/uploads/2018/12/napoleon_1200x1200_selfies3-1.jpg\" srcset=\"https://napoleoncat.com/blog/wp-content/uploads/2018/12/napoleon_1200x1200_selfies3-1.jpg 1200w, https://napoleoncat.com/blog/wp-content/uploads/2018/12/napoleon_1200x1200_selfies3-1-150x150.jpg 150w, https://napoleoncat.com/blog/wp-content/uploads/2018/12/napoleon_1200x1200_selfies3-1-300x300.jpg 300w, https://napoleoncat.com/blog/wp-content/uploads/2018/12/napoleon_1200x1200_selfies3-1-768x768.jpg 768w, https://napoleoncat.com/blog/wp-content/uploads/2018/12/napoleon_1200x1200_selfies3-1-1024x1024.jpg 1024w, https://napoleoncat.com/blog/wp-content/uploads/2018/12/napoleon_1200x1200_selfies3-1-624x624.jpg 624w\" width=\"1200\"/></p>,\n",
       " <p>There are 5.8M Instagram users in Florida state in the United States. Only 41% are male and over 80% of all instagramers living in Florida state are younger than 45.</p>,\n",
       " <p><img alt=\"\" class=\"aligncenter size-full wp-image-8171\" height=\"1200\" sizes=\"(max-width: 1200px) 100vw, 1200px\" src=\"https://napoleoncat.com/blog/wp-content/uploads/2018/12/napoleon_1200x1200_selfies3-1.jpg\" srcset=\"https://napoleoncat.com/blog/wp-content/uploads/2018/12/napoleon_1200x1200_selfies3-1.jpg 1200w, https://napoleoncat.com/blog/wp-content/uploads/2018/12/napoleon_1200x1200_selfies3-1-150x150.jpg 150w, https://napoleoncat.com/blog/wp-content/uploads/2018/12/napoleon_1200x1200_selfies3-1-300x300.jpg 300w, https://napoleoncat.com/blog/wp-content/uploads/2018/12/napoleon_1200x1200_selfies3-1-768x768.jpg 768w, https://napoleoncat.com/blog/wp-content/uploads/2018/12/napoleon_1200x1200_selfies3-1-1024x1024.jpg 1024w, https://napoleoncat.com/blog/wp-content/uploads/2018/12/napoleon_1200x1200_selfies3-1-624x624.jpg 624w\" width=\"1200\"/></p>,\n",
       " <p><img alt=\"\" class=\"aligncenter size-full wp-image-8171\" height=\"1200\" sizes=\"(max-width: 1200px) 100vw, 1200px\" src=\"https://napoleoncat.com/blog/wp-content/uploads/2018/12/napoleon_1200x1200_selfies3-1.jpg\" srcset=\"https://napoleoncat.com/blog/wp-content/uploads/2018/12/napoleon_1200x1200_selfies3-1.jpg 1200w, https://napoleoncat.com/blog/wp-content/uploads/2018/12/napoleon_1200x1200_selfies3-1-150x150.jpg 150w, https://napoleoncat.com/blog/wp-content/uploads/2018/12/napoleon_1200x1200_selfies3-1-300x300.jpg 300w, https://napoleoncat.com/blog/wp-content/uploads/2018/12/napoleon_1200x1200_selfies3-1-768x768.jpg 768w, https://napoleoncat.com/blog/wp-content/uploads/2018/12/napoleon_1200x1200_selfies3-1-1024x1024.jpg 1024w, https://napoleoncat.com/blog/wp-content/uploads/2018/12/napoleon_1200x1200_selfies3-1-624x624.jpg 624w\" width=\"1200\"/></p>,\n",
       " <p><img alt=\"\" class=\"aligncenter size-full wp-image-8171\" height=\"1200\" sizes=\"(max-width: 1200px) 100vw, 1200px\" src=\"https://napoleoncat.com/blog/wp-content/uploads/2018/12/napoleon_1200x1200_selfies3-1.jpg\" srcset=\"https://napoleoncat.com/blog/wp-content/uploads/2018/12/napoleon_1200x1200_selfies3-1.jpg 1200w, https://napoleoncat.com/blog/wp-content/uploads/2018/12/napoleon_1200x1200_selfies3-1-150x150.jpg 150w, https://napoleoncat.com/blog/wp-content/uploads/2018/12/napoleon_1200x1200_selfies3-1-300x300.jpg 300w, https://napoleoncat.com/blog/wp-content/uploads/2018/12/napoleon_1200x1200_selfies3-1-768x768.jpg 768w, https://napoleoncat.com/blog/wp-content/uploads/2018/12/napoleon_1200x1200_selfies3-1-1024x1024.jpg 1024w, https://napoleoncat.com/blog/wp-content/uploads/2018/12/napoleon_1200x1200_selfies3-1-624x624.jpg 624w\" width=\"1200\"/></p>,\n",
       " <p>3.1M users use Instagram Illinois state in the USA. Only 42% are male and 80% of all instagramers living in Illinois state are aged 18-44.</p>,\n",
       " <p><img alt=\"\" class=\"aligncenter size-full wp-image-8171\" height=\"1200\" sizes=\"(max-width: 1200px) 100vw, 1200px\" src=\"https://napoleoncat.com/blog/wp-content/uploads/2018/12/napoleon_1200x1200_selfies3-1.jpg\" srcset=\"https://napoleoncat.com/blog/wp-content/uploads/2018/12/napoleon_1200x1200_selfies3-1.jpg 1200w, https://napoleoncat.com/blog/wp-content/uploads/2018/12/napoleon_1200x1200_selfies3-1-150x150.jpg 150w, https://napoleoncat.com/blog/wp-content/uploads/2018/12/napoleon_1200x1200_selfies3-1-300x300.jpg 300w, https://napoleoncat.com/blog/wp-content/uploads/2018/12/napoleon_1200x1200_selfies3-1-768x768.jpg 768w, https://napoleoncat.com/blog/wp-content/uploads/2018/12/napoleon_1200x1200_selfies3-1-1024x1024.jpg 1024w, https://napoleoncat.com/blog/wp-content/uploads/2018/12/napoleon_1200x1200_selfies3-1-624x624.jpg 624w\" width=\"1200\"/></p>,\n",
       " <p><img alt=\"\" class=\"aligncenter size-full wp-image-8171\" height=\"1200\" sizes=\"(max-width: 1200px) 100vw, 1200px\" src=\"https://napoleoncat.com/blog/wp-content/uploads/2018/12/napoleon_1200x1200_selfies3-1.jpg\" srcset=\"https://napoleoncat.com/blog/wp-content/uploads/2018/12/napoleon_1200x1200_selfies3-1.jpg 1200w, https://napoleoncat.com/blog/wp-content/uploads/2018/12/napoleon_1200x1200_selfies3-1-150x150.jpg 150w, https://napoleoncat.com/blog/wp-content/uploads/2018/12/napoleon_1200x1200_selfies3-1-300x300.jpg 300w, https://napoleoncat.com/blog/wp-content/uploads/2018/12/napoleon_1200x1200_selfies3-1-768x768.jpg 768w, https://napoleoncat.com/blog/wp-content/uploads/2018/12/napoleon_1200x1200_selfies3-1-1024x1024.jpg 1024w, https://napoleoncat.com/blog/wp-content/uploads/2018/12/napoleon_1200x1200_selfies3-1-624x624.jpg 624w\" width=\"1200\"/></p>,\n",
       " <p><img alt=\"\" class=\"aligncenter size-full wp-image-8171\" height=\"1200\" sizes=\"(max-width: 1200px) 100vw, 1200px\" src=\"https://napoleoncat.com/blog/wp-content/uploads/2018/12/napoleon_1200x1200_selfies3-1.jpg\" srcset=\"https://napoleoncat.com/blog/wp-content/uploads/2018/12/napoleon_1200x1200_selfies3-1.jpg 1200w, https://napoleoncat.com/blog/wp-content/uploads/2018/12/napoleon_1200x1200_selfies3-1-150x150.jpg 150w, https://napoleoncat.com/blog/wp-content/uploads/2018/12/napoleon_1200x1200_selfies3-1-300x300.jpg 300w, https://napoleoncat.com/blog/wp-content/uploads/2018/12/napoleon_1200x1200_selfies3-1-768x768.jpg 768w, https://napoleoncat.com/blog/wp-content/uploads/2018/12/napoleon_1200x1200_selfies3-1-1024x1024.jpg 1024w, https://napoleoncat.com/blog/wp-content/uploads/2018/12/napoleon_1200x1200_selfies3-1-624x624.jpg 624w\" width=\"1200\"/></p>,\n",
       " <p><img alt=\"\" class=\"aligncenter size-full wp-image-8171\" height=\"1200\" sizes=\"(max-width: 1200px) 100vw, 1200px\" src=\"https://napoleoncat.com/blog/wp-content/uploads/2018/12/napoleon_1200x1200_selfies3-1.jpg\" srcset=\"https://napoleoncat.com/blog/wp-content/uploads/2018/12/napoleon_1200x1200_selfies3-1.jpg 1200w, https://napoleoncat.com/blog/wp-content/uploads/2018/12/napoleon_1200x1200_selfies3-1-150x150.jpg 150w, https://napoleoncat.com/blog/wp-content/uploads/2018/12/napoleon_1200x1200_selfies3-1-300x300.jpg 300w, https://napoleoncat.com/blog/wp-content/uploads/2018/12/napoleon_1200x1200_selfies3-1-768x768.jpg 768w, https://napoleoncat.com/blog/wp-content/uploads/2018/12/napoleon_1200x1200_selfies3-1-1024x1024.jpg 1024w, https://napoleoncat.com/blog/wp-content/uploads/2018/12/napoleon_1200x1200_selfies3-1-624x624.jpg 624w\" width=\"1200\"/></p>,\n",
       " <p><img alt=\"\" class=\"aligncenter size-full wp-image-8171\" height=\"1200\" sizes=\"(max-width: 1200px) 100vw, 1200px\" src=\"https://napoleoncat.com/blog/wp-content/uploads/2018/12/napoleon_1200x1200_selfies3-1.jpg\" srcset=\"https://napoleoncat.com/blog/wp-content/uploads/2018/12/napoleon_1200x1200_selfies3-1.jpg 1200w, https://napoleoncat.com/blog/wp-content/uploads/2018/12/napoleon_1200x1200_selfies3-1-150x150.jpg 150w, https://napoleoncat.com/blog/wp-content/uploads/2018/12/napoleon_1200x1200_selfies3-1-300x300.jpg 300w, https://napoleoncat.com/blog/wp-content/uploads/2018/12/napoleon_1200x1200_selfies3-1-768x768.jpg 768w, https://napoleoncat.com/blog/wp-content/uploads/2018/12/napoleon_1200x1200_selfies3-1-1024x1024.jpg 1024w, https://napoleoncat.com/blog/wp-content/uploads/2018/12/napoleon_1200x1200_selfies3-1-624x624.jpg 624w\" width=\"1200\"/></p>,\n",
       " <p><img alt=\"\" class=\"aligncenter size-full wp-image-8171\" height=\"1200\" sizes=\"(max-width: 1200px) 100vw, 1200px\" src=\"https://napoleoncat.com/blog/wp-content/uploads/2018/12/napoleon_1200x1200_selfies3-1.jpg\" srcset=\"https://napoleoncat.com/blog/wp-content/uploads/2018/12/napoleon_1200x1200_selfies3-1.jpg 1200w, https://napoleoncat.com/blog/wp-content/uploads/2018/12/napoleon_1200x1200_selfies3-1-150x150.jpg 150w, https://napoleoncat.com/blog/wp-content/uploads/2018/12/napoleon_1200x1200_selfies3-1-300x300.jpg 300w, https://napoleoncat.com/blog/wp-content/uploads/2018/12/napoleon_1200x1200_selfies3-1-768x768.jpg 768w, https://napoleoncat.com/blog/wp-content/uploads/2018/12/napoleon_1200x1200_selfies3-1-1024x1024.jpg 1024w, https://napoleoncat.com/blog/wp-content/uploads/2018/12/napoleon_1200x1200_selfies3-1-624x624.jpg 624w\" width=\"1200\"/></p>,\n",
       " <p><img alt=\"\" class=\"aligncenter size-full wp-image-8171\" height=\"1200\" sizes=\"(max-width: 1200px) 100vw, 1200px\" src=\"https://napoleoncat.com/blog/wp-content/uploads/2018/12/napoleon_1200x1200_selfies3-1.jpg\" srcset=\"https://napoleoncat.com/blog/wp-content/uploads/2018/12/napoleon_1200x1200_selfies3-1.jpg 1200w, https://napoleoncat.com/blog/wp-content/uploads/2018/12/napoleon_1200x1200_selfies3-1-150x150.jpg 150w, https://napoleoncat.com/blog/wp-content/uploads/2018/12/napoleon_1200x1200_selfies3-1-300x300.jpg 300w, https://napoleoncat.com/blog/wp-content/uploads/2018/12/napoleon_1200x1200_selfies3-1-768x768.jpg 768w, https://napoleoncat.com/blog/wp-content/uploads/2018/12/napoleon_1200x1200_selfies3-1-1024x1024.jpg 1024w, https://napoleoncat.com/blog/wp-content/uploads/2018/12/napoleon_1200x1200_selfies3-1-624x624.jpg 624w\" width=\"1200\"/></p>,\n",
       " <p><img alt=\"\" class=\"aligncenter size-full wp-image-8171\" height=\"1200\" sizes=\"(max-width: 1200px) 100vw, 1200px\" src=\"https://napoleoncat.com/blog/wp-content/uploads/2018/12/napoleon_1200x1200_selfies3-1.jpg\" srcset=\"https://napoleoncat.com/blog/wp-content/uploads/2018/12/napoleon_1200x1200_selfies3-1.jpg 1200w, https://napoleoncat.com/blog/wp-content/uploads/2018/12/napoleon_1200x1200_selfies3-1-150x150.jpg 150w, https://napoleoncat.com/blog/wp-content/uploads/2018/12/napoleon_1200x1200_selfies3-1-300x300.jpg 300w, https://napoleoncat.com/blog/wp-content/uploads/2018/12/napoleon_1200x1200_selfies3-1-768x768.jpg 768w, https://napoleoncat.com/blog/wp-content/uploads/2018/12/napoleon_1200x1200_selfies3-1-1024x1024.jpg 1024w, https://napoleoncat.com/blog/wp-content/uploads/2018/12/napoleon_1200x1200_selfies3-1-624x624.jpg 624w\" width=\"1200\"/></p>,\n",
       " <p><img alt=\"\" class=\"aligncenter size-full wp-image-8171\" height=\"1200\" sizes=\"(max-width: 1200px) 100vw, 1200px\" src=\"https://napoleoncat.com/blog/wp-content/uploads/2018/12/napoleon_1200x1200_selfies3-1.jpg\" srcset=\"https://napoleoncat.com/blog/wp-content/uploads/2018/12/napoleon_1200x1200_selfies3-1.jpg 1200w, https://napoleoncat.com/blog/wp-content/uploads/2018/12/napoleon_1200x1200_selfies3-1-150x150.jpg 150w, https://napoleoncat.com/blog/wp-content/uploads/2018/12/napoleon_1200x1200_selfies3-1-300x300.jpg 300w, https://napoleoncat.com/blog/wp-content/uploads/2018/12/napoleon_1200x1200_selfies3-1-768x768.jpg 768w, https://napoleoncat.com/blog/wp-content/uploads/2018/12/napoleon_1200x1200_selfies3-1-1024x1024.jpg 1024w, https://napoleoncat.com/blog/wp-content/uploads/2018/12/napoleon_1200x1200_selfies3-1-624x624.jpg 624w\" width=\"1200\"/></p>,\n",
       " <p><img alt=\"\" class=\"aligncenter size-full wp-image-8171\" height=\"1200\" sizes=\"(max-width: 1200px) 100vw, 1200px\" src=\"https://napoleoncat.com/blog/wp-content/uploads/2018/12/napoleon_1200x1200_selfies3-1.jpg\" srcset=\"https://napoleoncat.com/blog/wp-content/uploads/2018/12/napoleon_1200x1200_selfies3-1.jpg 1200w, https://napoleoncat.com/blog/wp-content/uploads/2018/12/napoleon_1200x1200_selfies3-1-150x150.jpg 150w, https://napoleoncat.com/blog/wp-content/uploads/2018/12/napoleon_1200x1200_selfies3-1-300x300.jpg 300w, https://napoleoncat.com/blog/wp-content/uploads/2018/12/napoleon_1200x1200_selfies3-1-768x768.jpg 768w, https://napoleoncat.com/blog/wp-content/uploads/2018/12/napoleon_1200x1200_selfies3-1-1024x1024.jpg 1024w, https://napoleoncat.com/blog/wp-content/uploads/2018/12/napoleon_1200x1200_selfies3-1-624x624.jpg 624w\" width=\"1200\"/></p>,\n",
       " <p><img alt=\"\" class=\"aligncenter size-full wp-image-8171\" height=\"1200\" sizes=\"(max-width: 1200px) 100vw, 1200px\" src=\"https://napoleoncat.com/blog/wp-content/uploads/2018/12/napoleon_1200x1200_selfies3-1.jpg\" srcset=\"https://napoleoncat.com/blog/wp-content/uploads/2018/12/napoleon_1200x1200_selfies3-1.jpg 1200w, https://napoleoncat.com/blog/wp-content/uploads/2018/12/napoleon_1200x1200_selfies3-1-150x150.jpg 150w, https://napoleoncat.com/blog/wp-content/uploads/2018/12/napoleon_1200x1200_selfies3-1-300x300.jpg 300w, https://napoleoncat.com/blog/wp-content/uploads/2018/12/napoleon_1200x1200_selfies3-1-768x768.jpg 768w, https://napoleoncat.com/blog/wp-content/uploads/2018/12/napoleon_1200x1200_selfies3-1-1024x1024.jpg 1024w, https://napoleoncat.com/blog/wp-content/uploads/2018/12/napoleon_1200x1200_selfies3-1-624x624.jpg 624w\" width=\"1200\"/></p>,\n",
       " <p><img alt=\"\" class=\"aligncenter size-full wp-image-8171\" height=\"1200\" sizes=\"(max-width: 1200px) 100vw, 1200px\" src=\"https://napoleoncat.com/blog/wp-content/uploads/2018/12/napoleon_1200x1200_selfies3-1.jpg\" srcset=\"https://napoleoncat.com/blog/wp-content/uploads/2018/12/napoleon_1200x1200_selfies3-1.jpg 1200w, https://napoleoncat.com/blog/wp-content/uploads/2018/12/napoleon_1200x1200_selfies3-1-150x150.jpg 150w, https://napoleoncat.com/blog/wp-content/uploads/2018/12/napoleon_1200x1200_selfies3-1-300x300.jpg 300w, https://napoleoncat.com/blog/wp-content/uploads/2018/12/napoleon_1200x1200_selfies3-1-768x768.jpg 768w, https://napoleoncat.com/blog/wp-content/uploads/2018/12/napoleon_1200x1200_selfies3-1-1024x1024.jpg 1024w, https://napoleoncat.com/blog/wp-content/uploads/2018/12/napoleon_1200x1200_selfies3-1-624x624.jpg 624w\" width=\"1200\"/></p>,\n",
       " <p><img alt=\"\" class=\"aligncenter size-full wp-image-8171\" height=\"1200\" sizes=\"(max-width: 1200px) 100vw, 1200px\" src=\"https://napoleoncat.com/blog/wp-content/uploads/2018/12/napoleon_1200x1200_selfies3-1.jpg\" srcset=\"https://napoleoncat.com/blog/wp-content/uploads/2018/12/napoleon_1200x1200_selfies3-1.jpg 1200w, https://napoleoncat.com/blog/wp-content/uploads/2018/12/napoleon_1200x1200_selfies3-1-150x150.jpg 150w, https://napoleoncat.com/blog/wp-content/uploads/2018/12/napoleon_1200x1200_selfies3-1-300x300.jpg 300w, https://napoleoncat.com/blog/wp-content/uploads/2018/12/napoleon_1200x1200_selfies3-1-768x768.jpg 768w, https://napoleoncat.com/blog/wp-content/uploads/2018/12/napoleon_1200x1200_selfies3-1-1024x1024.jpg 1024w, https://napoleoncat.com/blog/wp-content/uploads/2018/12/napoleon_1200x1200_selfies3-1-624x624.jpg 624w\" width=\"1200\"/></p>,\n",
       " <p><img alt=\"\" class=\"aligncenter size-full wp-image-8171\" height=\"1200\" sizes=\"(max-width: 1200px) 100vw, 1200px\" src=\"https://napoleoncat.com/blog/wp-content/uploads/2018/12/napoleon_1200x1200_selfies3-1.jpg\" srcset=\"https://napoleoncat.com/blog/wp-content/uploads/2018/12/napoleon_1200x1200_selfies3-1.jpg 1200w, https://napoleoncat.com/blog/wp-content/uploads/2018/12/napoleon_1200x1200_selfies3-1-150x150.jpg 150w, https://napoleoncat.com/blog/wp-content/uploads/2018/12/napoleon_1200x1200_selfies3-1-300x300.jpg 300w, https://napoleoncat.com/blog/wp-content/uploads/2018/12/napoleon_1200x1200_selfies3-1-768x768.jpg 768w, https://napoleoncat.com/blog/wp-content/uploads/2018/12/napoleon_1200x1200_selfies3-1-1024x1024.jpg 1024w, https://napoleoncat.com/blog/wp-content/uploads/2018/12/napoleon_1200x1200_selfies3-1-624x624.jpg 624w\" width=\"1200\"/></p>,\n",
       " <p><img alt=\"\" class=\"aligncenter size-full wp-image-8171\" height=\"1200\" sizes=\"(max-width: 1200px) 100vw, 1200px\" src=\"https://napoleoncat.com/blog/wp-content/uploads/2018/12/napoleon_1200x1200_selfies3-1.jpg\" srcset=\"https://napoleoncat.com/blog/wp-content/uploads/2018/12/napoleon_1200x1200_selfies3-1.jpg 1200w, https://napoleoncat.com/blog/wp-content/uploads/2018/12/napoleon_1200x1200_selfies3-1-150x150.jpg 150w, https://napoleoncat.com/blog/wp-content/uploads/2018/12/napoleon_1200x1200_selfies3-1-300x300.jpg 300w, https://napoleoncat.com/blog/wp-content/uploads/2018/12/napoleon_1200x1200_selfies3-1-768x768.jpg 768w, https://napoleoncat.com/blog/wp-content/uploads/2018/12/napoleon_1200x1200_selfies3-1-1024x1024.jpg 1024w, https://napoleoncat.com/blog/wp-content/uploads/2018/12/napoleon_1200x1200_selfies3-1-624x624.jpg 624w\" width=\"1200\"/></p>,\n",
       " <p><img alt=\"\" class=\"aligncenter size-full wp-image-8171\" height=\"1200\" sizes=\"(max-width: 1200px) 100vw, 1200px\" src=\"https://napoleoncat.com/blog/wp-content/uploads/2018/12/napoleon_1200x1200_selfies3-1.jpg\" srcset=\"https://napoleoncat.com/blog/wp-content/uploads/2018/12/napoleon_1200x1200_selfies3-1.jpg 1200w, https://napoleoncat.com/blog/wp-content/uploads/2018/12/napoleon_1200x1200_selfies3-1-150x150.jpg 150w, https://napoleoncat.com/blog/wp-content/uploads/2018/12/napoleon_1200x1200_selfies3-1-300x300.jpg 300w, https://napoleoncat.com/blog/wp-content/uploads/2018/12/napoleon_1200x1200_selfies3-1-768x768.jpg 768w, https://napoleoncat.com/blog/wp-content/uploads/2018/12/napoleon_1200x1200_selfies3-1-1024x1024.jpg 1024w, https://napoleoncat.com/blog/wp-content/uploads/2018/12/napoleon_1200x1200_selfies3-1-624x624.jpg 624w\" width=\"1200\"/></p>,\n",
       " <p><img alt=\"\" class=\"aligncenter size-full wp-image-8171\" height=\"1200\" sizes=\"(max-width: 1200px) 100vw, 1200px\" src=\"https://napoleoncat.com/blog/wp-content/uploads/2018/12/napoleon_1200x1200_selfies3-1.jpg\" srcset=\"https://napoleoncat.com/blog/wp-content/uploads/2018/12/napoleon_1200x1200_selfies3-1.jpg 1200w, https://napoleoncat.com/blog/wp-content/uploads/2018/12/napoleon_1200x1200_selfies3-1-150x150.jpg 150w, https://napoleoncat.com/blog/wp-content/uploads/2018/12/napoleon_1200x1200_selfies3-1-300x300.jpg 300w, https://napoleoncat.com/blog/wp-content/uploads/2018/12/napoleon_1200x1200_selfies3-1-768x768.jpg 768w, https://napoleoncat.com/blog/wp-content/uploads/2018/12/napoleon_1200x1200_selfies3-1-1024x1024.jpg 1024w, https://napoleoncat.com/blog/wp-content/uploads/2018/12/napoleon_1200x1200_selfies3-1-624x624.jpg 624w\" width=\"1200\"/></p>,\n",
       " <p><img alt=\"\" class=\"aligncenter size-full wp-image-8171\" height=\"1200\" sizes=\"(max-width: 1200px) 100vw, 1200px\" src=\"https://napoleoncat.com/blog/wp-content/uploads/2018/12/napoleon_1200x1200_selfies3-1.jpg\" srcset=\"https://napoleoncat.com/blog/wp-content/uploads/2018/12/napoleon_1200x1200_selfies3-1.jpg 1200w, https://napoleoncat.com/blog/wp-content/uploads/2018/12/napoleon_1200x1200_selfies3-1-150x150.jpg 150w, https://napoleoncat.com/blog/wp-content/uploads/2018/12/napoleon_1200x1200_selfies3-1-300x300.jpg 300w, https://napoleoncat.com/blog/wp-content/uploads/2018/12/napoleon_1200x1200_selfies3-1-768x768.jpg 768w, https://napoleoncat.com/blog/wp-content/uploads/2018/12/napoleon_1200x1200_selfies3-1-1024x1024.jpg 1024w, https://napoleoncat.com/blog/wp-content/uploads/2018/12/napoleon_1200x1200_selfies3-1-624x624.jpg 624w\" width=\"1200\"/></p>,\n",
       " <p><img alt=\"\" class=\"aligncenter size-full wp-image-8171\" height=\"1200\" sizes=\"(max-width: 1200px) 100vw, 1200px\" src=\"https://napoleoncat.com/blog/wp-content/uploads/2018/12/napoleon_1200x1200_selfies3-1.jpg\" srcset=\"https://napoleoncat.com/blog/wp-content/uploads/2018/12/napoleon_1200x1200_selfies3-1.jpg 1200w, https://napoleoncat.com/blog/wp-content/uploads/2018/12/napoleon_1200x1200_selfies3-1-150x150.jpg 150w, https://napoleoncat.com/blog/wp-content/uploads/2018/12/napoleon_1200x1200_selfies3-1-300x300.jpg 300w, https://napoleoncat.com/blog/wp-content/uploads/2018/12/napoleon_1200x1200_selfies3-1-768x768.jpg 768w, https://napoleoncat.com/blog/wp-content/uploads/2018/12/napoleon_1200x1200_selfies3-1-1024x1024.jpg 1024w, https://napoleoncat.com/blog/wp-content/uploads/2018/12/napoleon_1200x1200_selfies3-1-624x624.jpg 624w\" width=\"1200\"/></p>,\n",
       " <p><img alt=\"\" class=\"aligncenter size-full wp-image-8171\" height=\"1200\" sizes=\"(max-width: 1200px) 100vw, 1200px\" src=\"https://napoleoncat.com/blog/wp-content/uploads/2018/12/napoleon_1200x1200_selfies3-1.jpg\" srcset=\"https://napoleoncat.com/blog/wp-content/uploads/2018/12/napoleon_1200x1200_selfies3-1.jpg 1200w, https://napoleoncat.com/blog/wp-content/uploads/2018/12/napoleon_1200x1200_selfies3-1-150x150.jpg 150w, https://napoleoncat.com/blog/wp-content/uploads/2018/12/napoleon_1200x1200_selfies3-1-300x300.jpg 300w, https://napoleoncat.com/blog/wp-content/uploads/2018/12/napoleon_1200x1200_selfies3-1-768x768.jpg 768w, https://napoleoncat.com/blog/wp-content/uploads/2018/12/napoleon_1200x1200_selfies3-1-1024x1024.jpg 1024w, https://napoleoncat.com/blog/wp-content/uploads/2018/12/napoleon_1200x1200_selfies3-1-624x624.jpg 624w\" width=\"1200\"/></p>,\n",
       " <p><img alt=\"\" class=\"aligncenter size-full wp-image-8171\" height=\"1200\" sizes=\"(max-width: 1200px) 100vw, 1200px\" src=\"https://napoleoncat.com/blog/wp-content/uploads/2018/12/napoleon_1200x1200_selfies3-1.jpg\" srcset=\"https://napoleoncat.com/blog/wp-content/uploads/2018/12/napoleon_1200x1200_selfies3-1.jpg 1200w, https://napoleoncat.com/blog/wp-content/uploads/2018/12/napoleon_1200x1200_selfies3-1-150x150.jpg 150w, https://napoleoncat.com/blog/wp-content/uploads/2018/12/napoleon_1200x1200_selfies3-1-300x300.jpg 300w, https://napoleoncat.com/blog/wp-content/uploads/2018/12/napoleon_1200x1200_selfies3-1-768x768.jpg 768w, https://napoleoncat.com/blog/wp-content/uploads/2018/12/napoleon_1200x1200_selfies3-1-1024x1024.jpg 1024w, https://napoleoncat.com/blog/wp-content/uploads/2018/12/napoleon_1200x1200_selfies3-1-624x624.jpg 624w\" width=\"1200\"/></p>,\n",
       " <p><img alt=\"\" class=\"aligncenter size-full wp-image-8171\" height=\"1200\" sizes=\"(max-width: 1200px) 100vw, 1200px\" src=\"https://napoleoncat.com/blog/wp-content/uploads/2018/12/napoleon_1200x1200_selfies3-1.jpg\" srcset=\"https://napoleoncat.com/blog/wp-content/uploads/2018/12/napoleon_1200x1200_selfies3-1.jpg 1200w, https://napoleoncat.com/blog/wp-content/uploads/2018/12/napoleon_1200x1200_selfies3-1-150x150.jpg 150w, https://napoleoncat.com/blog/wp-content/uploads/2018/12/napoleon_1200x1200_selfies3-1-300x300.jpg 300w, https://napoleoncat.com/blog/wp-content/uploads/2018/12/napoleon_1200x1200_selfies3-1-768x768.jpg 768w, https://napoleoncat.com/blog/wp-content/uploads/2018/12/napoleon_1200x1200_selfies3-1-1024x1024.jpg 1024w, https://napoleoncat.com/blog/wp-content/uploads/2018/12/napoleon_1200x1200_selfies3-1-624x624.jpg 624w\" width=\"1200\"/></p>,\n",
       " <p><img alt=\"\" class=\"aligncenter size-full wp-image-8171\" height=\"1200\" sizes=\"(max-width: 1200px) 100vw, 1200px\" src=\"https://napoleoncat.com/blog/wp-content/uploads/2018/12/napoleon_1200x1200_selfies3-1.jpg\" srcset=\"https://napoleoncat.com/blog/wp-content/uploads/2018/12/napoleon_1200x1200_selfies3-1.jpg 1200w, https://napoleoncat.com/blog/wp-content/uploads/2018/12/napoleon_1200x1200_selfies3-1-150x150.jpg 150w, https://napoleoncat.com/blog/wp-content/uploads/2018/12/napoleon_1200x1200_selfies3-1-300x300.jpg 300w, https://napoleoncat.com/blog/wp-content/uploads/2018/12/napoleon_1200x1200_selfies3-1-768x768.jpg 768w, https://napoleoncat.com/blog/wp-content/uploads/2018/12/napoleon_1200x1200_selfies3-1-1024x1024.jpg 1024w, https://napoleoncat.com/blog/wp-content/uploads/2018/12/napoleon_1200x1200_selfies3-1-624x624.jpg 624w\" width=\"1200\"/></p>,\n",
       " <p><img alt=\"\" class=\"aligncenter size-full wp-image-8171\" height=\"1200\" sizes=\"(max-width: 1200px) 100vw, 1200px\" src=\"https://napoleoncat.com/blog/wp-content/uploads/2018/12/napoleon_1200x1200_selfies3-1.jpg\" srcset=\"https://napoleoncat.com/blog/wp-content/uploads/2018/12/napoleon_1200x1200_selfies3-1.jpg 1200w, https://napoleoncat.com/blog/wp-content/uploads/2018/12/napoleon_1200x1200_selfies3-1-150x150.jpg 150w, https://napoleoncat.com/blog/wp-content/uploads/2018/12/napoleon_1200x1200_selfies3-1-300x300.jpg 300w, https://napoleoncat.com/blog/wp-content/uploads/2018/12/napoleon_1200x1200_selfies3-1-768x768.jpg 768w, https://napoleoncat.com/blog/wp-content/uploads/2018/12/napoleon_1200x1200_selfies3-1-1024x1024.jpg 1024w, https://napoleoncat.com/blog/wp-content/uploads/2018/12/napoleon_1200x1200_selfies3-1-624x624.jpg 624w\" width=\"1200\"/></p>,\n",
       " <p><img alt=\"\" class=\"aligncenter size-full wp-image-8171\" height=\"1200\" sizes=\"(max-width: 1200px) 100vw, 1200px\" src=\"https://napoleoncat.com/blog/wp-content/uploads/2018/12/napoleon_1200x1200_selfies3-1.jpg\" srcset=\"https://napoleoncat.com/blog/wp-content/uploads/2018/12/napoleon_1200x1200_selfies3-1.jpg 1200w, https://napoleoncat.com/blog/wp-content/uploads/2018/12/napoleon_1200x1200_selfies3-1-150x150.jpg 150w, https://napoleoncat.com/blog/wp-content/uploads/2018/12/napoleon_1200x1200_selfies3-1-300x300.jpg 300w, https://napoleoncat.com/blog/wp-content/uploads/2018/12/napoleon_1200x1200_selfies3-1-768x768.jpg 768w, https://napoleoncat.com/blog/wp-content/uploads/2018/12/napoleon_1200x1200_selfies3-1-1024x1024.jpg 1024w, https://napoleoncat.com/blog/wp-content/uploads/2018/12/napoleon_1200x1200_selfies3-1-624x624.jpg 624w\" width=\"1200\"/></p>,\n",
       " <p><img alt=\"\" class=\"aligncenter size-full wp-image-8171\" height=\"1200\" sizes=\"(max-width: 1200px) 100vw, 1200px\" src=\"https://napoleoncat.com/blog/wp-content/uploads/2018/12/napoleon_1200x1200_selfies3-1.jpg\" srcset=\"https://napoleoncat.com/blog/wp-content/uploads/2018/12/napoleon_1200x1200_selfies3-1.jpg 1200w, https://napoleoncat.com/blog/wp-content/uploads/2018/12/napoleon_1200x1200_selfies3-1-150x150.jpg 150w, https://napoleoncat.com/blog/wp-content/uploads/2018/12/napoleon_1200x1200_selfies3-1-300x300.jpg 300w, https://napoleoncat.com/blog/wp-content/uploads/2018/12/napoleon_1200x1200_selfies3-1-768x768.jpg 768w, https://napoleoncat.com/blog/wp-content/uploads/2018/12/napoleon_1200x1200_selfies3-1-1024x1024.jpg 1024w, https://napoleoncat.com/blog/wp-content/uploads/2018/12/napoleon_1200x1200_selfies3-1-624x624.jpg 624w\" width=\"1200\"/></p>,\n",
       " <p><img alt=\"\" class=\"aligncenter size-full wp-image-8171\" height=\"1200\" sizes=\"(max-width: 1200px) 100vw, 1200px\" src=\"https://napoleoncat.com/blog/wp-content/uploads/2018/12/napoleon_1200x1200_selfies3-1.jpg\" srcset=\"https://napoleoncat.com/blog/wp-content/uploads/2018/12/napoleon_1200x1200_selfies3-1.jpg 1200w, https://napoleoncat.com/blog/wp-content/uploads/2018/12/napoleon_1200x1200_selfies3-1-150x150.jpg 150w, https://napoleoncat.com/blog/wp-content/uploads/2018/12/napoleon_1200x1200_selfies3-1-300x300.jpg 300w, https://napoleoncat.com/blog/wp-content/uploads/2018/12/napoleon_1200x1200_selfies3-1-768x768.jpg 768w, https://napoleoncat.com/blog/wp-content/uploads/2018/12/napoleon_1200x1200_selfies3-1-1024x1024.jpg 1024w, https://napoleoncat.com/blog/wp-content/uploads/2018/12/napoleon_1200x1200_selfies3-1-624x624.jpg 624w\" width=\"1200\"/></p>,\n",
       " <p><img alt=\"\" class=\"aligncenter size-full wp-image-8171\" height=\"1200\" sizes=\"(max-width: 1200px) 100vw, 1200px\" src=\"https://napoleoncat.com/blog/wp-content/uploads/2018/12/napoleon_1200x1200_selfies3-1.jpg\" srcset=\"https://napoleoncat.com/blog/wp-content/uploads/2018/12/napoleon_1200x1200_selfies3-1.jpg 1200w, https://napoleoncat.com/blog/wp-content/uploads/2018/12/napoleon_1200x1200_selfies3-1-150x150.jpg 150w, https://napoleoncat.com/blog/wp-content/uploads/2018/12/napoleon_1200x1200_selfies3-1-300x300.jpg 300w, https://napoleoncat.com/blog/wp-content/uploads/2018/12/napoleon_1200x1200_selfies3-1-768x768.jpg 768w, https://napoleoncat.com/blog/wp-content/uploads/2018/12/napoleon_1200x1200_selfies3-1-1024x1024.jpg 1024w, https://napoleoncat.com/blog/wp-content/uploads/2018/12/napoleon_1200x1200_selfies3-1-624x624.jpg 624w\" width=\"1200\"/></p>,\n",
       " <p><img alt=\"\" class=\"aligncenter size-full wp-image-8171\" height=\"1200\" sizes=\"(max-width: 1200px) 100vw, 1200px\" src=\"https://napoleoncat.com/blog/wp-content/uploads/2018/12/napoleon_1200x1200_selfies3-1.jpg\" srcset=\"https://napoleoncat.com/blog/wp-content/uploads/2018/12/napoleon_1200x1200_selfies3-1.jpg 1200w, https://napoleoncat.com/blog/wp-content/uploads/2018/12/napoleon_1200x1200_selfies3-1-150x150.jpg 150w, https://napoleoncat.com/blog/wp-content/uploads/2018/12/napoleon_1200x1200_selfies3-1-300x300.jpg 300w, https://napoleoncat.com/blog/wp-content/uploads/2018/12/napoleon_1200x1200_selfies3-1-768x768.jpg 768w, https://napoleoncat.com/blog/wp-content/uploads/2018/12/napoleon_1200x1200_selfies3-1-1024x1024.jpg 1024w, https://napoleoncat.com/blog/wp-content/uploads/2018/12/napoleon_1200x1200_selfies3-1-624x624.jpg 624w\" width=\"1200\"/></p>,\n",
       " <p><img alt=\"\" class=\"aligncenter size-full wp-image-8171\" height=\"1200\" sizes=\"(max-width: 1200px) 100vw, 1200px\" src=\"https://napoleoncat.com/blog/wp-content/uploads/2018/12/napoleon_1200x1200_selfies3-1.jpg\" srcset=\"https://napoleoncat.com/blog/wp-content/uploads/2018/12/napoleon_1200x1200_selfies3-1.jpg 1200w, https://napoleoncat.com/blog/wp-content/uploads/2018/12/napoleon_1200x1200_selfies3-1-150x150.jpg 150w, https://napoleoncat.com/blog/wp-content/uploads/2018/12/napoleon_1200x1200_selfies3-1-300x300.jpg 300w, https://napoleoncat.com/blog/wp-content/uploads/2018/12/napoleon_1200x1200_selfies3-1-768x768.jpg 768w, https://napoleoncat.com/blog/wp-content/uploads/2018/12/napoleon_1200x1200_selfies3-1-1024x1024.jpg 1024w, https://napoleoncat.com/blog/wp-content/uploads/2018/12/napoleon_1200x1200_selfies3-1-624x624.jpg 624w\" width=\"1200\"/></p>,\n",
       " <p><img alt=\"\" class=\"aligncenter size-full wp-image-8171\" height=\"1200\" sizes=\"(max-width: 1200px) 100vw, 1200px\" src=\"https://napoleoncat.com/blog/wp-content/uploads/2018/12/napoleon_1200x1200_selfies3-1.jpg\" srcset=\"https://napoleoncat.com/blog/wp-content/uploads/2018/12/napoleon_1200x1200_selfies3-1.jpg 1200w, https://napoleoncat.com/blog/wp-content/uploads/2018/12/napoleon_1200x1200_selfies3-1-150x150.jpg 150w, https://napoleoncat.com/blog/wp-content/uploads/2018/12/napoleon_1200x1200_selfies3-1-300x300.jpg 300w, https://napoleoncat.com/blog/wp-content/uploads/2018/12/napoleon_1200x1200_selfies3-1-768x768.jpg 768w, https://napoleoncat.com/blog/wp-content/uploads/2018/12/napoleon_1200x1200_selfies3-1-1024x1024.jpg 1024w, https://napoleoncat.com/blog/wp-content/uploads/2018/12/napoleon_1200x1200_selfies3-1-624x624.jpg 624w\" width=\"1200\"/></p>,\n",
       " <p><img alt=\"\" class=\"aligncenter size-full wp-image-8171\" height=\"1200\" sizes=\"(max-width: 1200px) 100vw, 1200px\" src=\"https://napoleoncat.com/blog/wp-content/uploads/2018/12/napoleon_1200x1200_selfies3-1.jpg\" srcset=\"https://napoleoncat.com/blog/wp-content/uploads/2018/12/napoleon_1200x1200_selfies3-1.jpg 1200w, https://napoleoncat.com/blog/wp-content/uploads/2018/12/napoleon_1200x1200_selfies3-1-150x150.jpg 150w, https://napoleoncat.com/blog/wp-content/uploads/2018/12/napoleon_1200x1200_selfies3-1-300x300.jpg 300w, https://napoleoncat.com/blog/wp-content/uploads/2018/12/napoleon_1200x1200_selfies3-1-768x768.jpg 768w, https://napoleoncat.com/blog/wp-content/uploads/2018/12/napoleon_1200x1200_selfies3-1-1024x1024.jpg 1024w, https://napoleoncat.com/blog/wp-content/uploads/2018/12/napoleon_1200x1200_selfies3-1-624x624.jpg 624w\" width=\"1200\"/></p>,\n",
       " <p><img alt=\"\" class=\"aligncenter size-full wp-image-8171\" height=\"1200\" sizes=\"(max-width: 1200px) 100vw, 1200px\" src=\"https://napoleoncat.com/blog/wp-content/uploads/2018/12/napoleon_1200x1200_selfies3-1.jpg\" srcset=\"https://napoleoncat.com/blog/wp-content/uploads/2018/12/napoleon_1200x1200_selfies3-1.jpg 1200w, https://napoleoncat.com/blog/wp-content/uploads/2018/12/napoleon_1200x1200_selfies3-1-150x150.jpg 150w, https://napoleoncat.com/blog/wp-content/uploads/2018/12/napoleon_1200x1200_selfies3-1-300x300.jpg 300w, https://napoleoncat.com/blog/wp-content/uploads/2018/12/napoleon_1200x1200_selfies3-1-768x768.jpg 768w, https://napoleoncat.com/blog/wp-content/uploads/2018/12/napoleon_1200x1200_selfies3-1-1024x1024.jpg 1024w, https://napoleoncat.com/blog/wp-content/uploads/2018/12/napoleon_1200x1200_selfies3-1-624x624.jpg 624w\" width=\"1200\"/></p>,\n",
       " <p><img alt=\"\" class=\"aligncenter size-full wp-image-8171\" height=\"1200\" sizes=\"(max-width: 1200px) 100vw, 1200px\" src=\"https://napoleoncat.com/blog/wp-content/uploads/2018/12/napoleon_1200x1200_selfies3-1.jpg\" srcset=\"https://napoleoncat.com/blog/wp-content/uploads/2018/12/napoleon_1200x1200_selfies3-1.jpg 1200w, https://napoleoncat.com/blog/wp-content/uploads/2018/12/napoleon_1200x1200_selfies3-1-150x150.jpg 150w, https://napoleoncat.com/blog/wp-content/uploads/2018/12/napoleon_1200x1200_selfies3-1-300x300.jpg 300w, https://napoleoncat.com/blog/wp-content/uploads/2018/12/napoleon_1200x1200_selfies3-1-768x768.jpg 768w, https://napoleoncat.com/blog/wp-content/uploads/2018/12/napoleon_1200x1200_selfies3-1-1024x1024.jpg 1024w, https://napoleoncat.com/blog/wp-content/uploads/2018/12/napoleon_1200x1200_selfies3-1-624x624.jpg 624w\" width=\"1200\"/></p>,\n",
       " <p><img alt=\"\" class=\"aligncenter size-full wp-image-8171\" height=\"1200\" sizes=\"(max-width: 1200px) 100vw, 1200px\" src=\"https://napoleoncat.com/blog/wp-content/uploads/2018/12/napoleon_1200x1200_selfies3-1.jpg\" srcset=\"https://napoleoncat.com/blog/wp-content/uploads/2018/12/napoleon_1200x1200_selfies3-1.jpg 1200w, https://napoleoncat.com/blog/wp-content/uploads/2018/12/napoleon_1200x1200_selfies3-1-150x150.jpg 150w, https://napoleoncat.com/blog/wp-content/uploads/2018/12/napoleon_1200x1200_selfies3-1-300x300.jpg 300w, https://napoleoncat.com/blog/wp-content/uploads/2018/12/napoleon_1200x1200_selfies3-1-768x768.jpg 768w, https://napoleoncat.com/blog/wp-content/uploads/2018/12/napoleon_1200x1200_selfies3-1-1024x1024.jpg 1024w, https://napoleoncat.com/blog/wp-content/uploads/2018/12/napoleon_1200x1200_selfies3-1-624x624.jpg 624w\" width=\"1200\"/></p>,\n",
       " <p><img alt=\"\" class=\"aligncenter size-full wp-image-8171\" height=\"1200\" sizes=\"(max-width: 1200px) 100vw, 1200px\" src=\"https://napoleoncat.com/blog/wp-content/uploads/2018/12/napoleon_1200x1200_selfies3-1.jpg\" srcset=\"https://napoleoncat.com/blog/wp-content/uploads/2018/12/napoleon_1200x1200_selfies3-1.jpg 1200w, https://napoleoncat.com/blog/wp-content/uploads/2018/12/napoleon_1200x1200_selfies3-1-150x150.jpg 150w, https://napoleoncat.com/blog/wp-content/uploads/2018/12/napoleon_1200x1200_selfies3-1-300x300.jpg 300w, https://napoleoncat.com/blog/wp-content/uploads/2018/12/napoleon_1200x1200_selfies3-1-768x768.jpg 768w, https://napoleoncat.com/blog/wp-content/uploads/2018/12/napoleon_1200x1200_selfies3-1-1024x1024.jpg 1024w, https://napoleoncat.com/blog/wp-content/uploads/2018/12/napoleon_1200x1200_selfies3-1-624x624.jpg 624w\" width=\"1200\"/></p>,\n",
       " <p><img alt=\"\" class=\"aligncenter size-full wp-image-8171\" height=\"1200\" sizes=\"(max-width: 1200px) 100vw, 1200px\" src=\"https://napoleoncat.com/blog/wp-content/uploads/2018/12/napoleon_1200x1200_selfies3-1.jpg\" srcset=\"https://napoleoncat.com/blog/wp-content/uploads/2018/12/napoleon_1200x1200_selfies3-1.jpg 1200w, https://napoleoncat.com/blog/wp-content/uploads/2018/12/napoleon_1200x1200_selfies3-1-150x150.jpg 150w, https://napoleoncat.com/blog/wp-content/uploads/2018/12/napoleon_1200x1200_selfies3-1-300x300.jpg 300w, https://napoleoncat.com/blog/wp-content/uploads/2018/12/napoleon_1200x1200_selfies3-1-768x768.jpg 768w, https://napoleoncat.com/blog/wp-content/uploads/2018/12/napoleon_1200x1200_selfies3-1-1024x1024.jpg 1024w, https://napoleoncat.com/blog/wp-content/uploads/2018/12/napoleon_1200x1200_selfies3-1-624x624.jpg 624w\" width=\"1200\"/></p>,\n",
       " <p>There are 1.2M Instagram users in Alabama state in the United States. Only 41% are male. Over 80% are younger than 45.</p>]"
      ]
     },
     "execution_count": 42,
     "metadata": {},
     "output_type": "execute_result"
    }
   ],
   "source": [
    "url = 'https://napoleoncat.com/blog/en/instagram-users-in-alabama-state-in-the-us-november-2016/?utm_source=NapoBlog&utm_campaign=201612_Insta_states_in_USA&utm_medium=owned&utm_content=art'\n",
    "browser.visit(url)\n",
    "html = browser.html\n",
    "soup = BeautifulSoup(html, 'html.parser')\n",
    "find_div = soup.find('div', class_='intro')\n",
    "find_para = find_div.find('p').getText()\n",
    "stat_list.append(find_para)\n",
    "stat_list\n",
    "stat_list"
   ]
  },
  {
   "cell_type": "markdown",
   "metadata": {},
   "source": [
    "<h3>I was able to pull the data above into Excel and pull the numbers and format the strings to a more useful format.</h3>"
   ]
  },
  {
   "cell_type": "code",
   "execution_count": 6,
   "metadata": {},
   "outputs": [],
   "source": [
    "%load_ext autoreload\n",
    "%autoreload 2\n",
    "\n",
    "import sys\n",
    "sys.path.append('../..')"
   ]
  },
  {
   "cell_type": "code",
   "execution_count": 7,
   "metadata": {},
   "outputs": [],
   "source": [
    "# Import 3rd party dependencies.\n",
    "import numpy as np\n",
    "import pandas as pd\n",
    "import matplotlib.pyplot as plt\n",
    "\n",
    "# Import custom linear regression implementation.\n",
    "from homemade.linear_regression import LinearRegression"
   ]
  },
  {
   "cell_type": "code",
   "execution_count": 9,
   "metadata": {},
   "outputs": [
    {
     "data": {
      "text/html": [
       "<div>\n",
       "<style scoped>\n",
       "    .dataframe tbody tr th:only-of-type {\n",
       "        vertical-align: middle;\n",
       "    }\n",
       "\n",
       "    .dataframe tbody tr th {\n",
       "        vertical-align: top;\n",
       "    }\n",
       "\n",
       "    .dataframe thead th {\n",
       "        text-align: right;\n",
       "    }\n",
       "</style>\n",
       "<table border=\"1\" class=\"dataframe\">\n",
       "  <thead>\n",
       "    <tr style=\"text-align: right;\">\n",
       "      <th></th>\n",
       "      <th>states</th>\n",
       "      <th>user_total_num</th>\n",
       "      <th>SUICIDE_RATE</th>\n",
       "      <th>TOTAL_DEATHS</th>\n",
       "      <th>state_population</th>\n",
       "      <th>IG_user_rate</th>\n",
       "      <th>unemployment_rate</th>\n",
       "      <th>Gun_Ownership</th>\n",
       "      <th>Violent_Crime</th>\n",
       "      <th>google_search_rate</th>\n",
       "    </tr>\n",
       "  </thead>\n",
       "  <tbody>\n",
       "    <tr>\n",
       "      <th>0</th>\n",
       "      <td>alabama</td>\n",
       "      <td>1,200,000</td>\n",
       "      <td>15.7</td>\n",
       "      <td>788</td>\n",
       "      <td>4868535</td>\n",
       "      <td>0.246481</td>\n",
       "      <td>5.9</td>\n",
       "      <td>0.52</td>\n",
       "      <td>449.9</td>\n",
       "      <td>75</td>\n",
       "    </tr>\n",
       "    <tr>\n",
       "      <th>1</th>\n",
       "      <td>alaska</td>\n",
       "      <td>160,000</td>\n",
       "      <td>25.8</td>\n",
       "      <td>193</td>\n",
       "      <td>725620</td>\n",
       "      <td>0.220501</td>\n",
       "      <td>6.9</td>\n",
       "      <td>0.58</td>\n",
       "      <td>603.2</td>\n",
       "      <td>100</td>\n",
       "    </tr>\n",
       "    <tr>\n",
       "      <th>2</th>\n",
       "      <td>arizona</td>\n",
       "      <td>1,700,000</td>\n",
       "      <td>17.7</td>\n",
       "      <td>1,271</td>\n",
       "      <td>6965367</td>\n",
       "      <td>0.244065</td>\n",
       "      <td>5.4</td>\n",
       "      <td>0.31</td>\n",
       "      <td>428.9</td>\n",
       "      <td>93</td>\n",
       "    </tr>\n",
       "    <tr>\n",
       "      <th>3</th>\n",
       "      <td>arkansas</td>\n",
       "      <td>680,000</td>\n",
       "      <td>18.2</td>\n",
       "      <td>555</td>\n",
       "      <td>2957967</td>\n",
       "      <td>0.229888</td>\n",
       "      <td>3.9</td>\n",
       "      <td>0.55</td>\n",
       "      <td>469.1</td>\n",
       "      <td>80</td>\n",
       "    </tr>\n",
       "    <tr>\n",
       "      <th>4</th>\n",
       "      <td>california</td>\n",
       "      <td>12,200,000</td>\n",
       "      <td>10.5</td>\n",
       "      <td>4,294</td>\n",
       "      <td>39668381</td>\n",
       "      <td>0.307550</td>\n",
       "      <td>5.5</td>\n",
       "      <td>0.21</td>\n",
       "      <td>423.1</td>\n",
       "      <td>91</td>\n",
       "    </tr>\n",
       "  </tbody>\n",
       "</table>\n",
       "</div>"
      ],
      "text/plain": [
       "       states user_total_num  SUICIDE_RATE TOTAL_DEATHS  state_population  \\\n",
       "0     alabama      1,200,000          15.7          788           4868535   \n",
       "1      alaska        160,000          25.8          193            725620   \n",
       "2     arizona      1,700,000          17.7        1,271           6965367   \n",
       "3    arkansas        680,000          18.2          555           2957967   \n",
       "4  california     12,200,000          10.5        4,294          39668381   \n",
       "\n",
       "   IG_user_rate  unemployment_rate  Gun_Ownership  Violent_Crime  \\\n",
       "0      0.246481                5.9           0.52          449.9   \n",
       "1      0.220501                6.9           0.58          603.2   \n",
       "2      0.244065                5.4           0.31          428.9   \n",
       "3      0.229888                3.9           0.55          469.1   \n",
       "4      0.307550                5.5           0.21          423.1   \n",
       "\n",
       "   google_search_rate  \n",
       "0                  75  \n",
       "1                 100  \n",
       "2                  93  \n",
       "3                  80  \n",
       "4                  91  "
      ]
     },
     "execution_count": 9,
     "metadata": {},
     "output_type": "execute_result"
    }
   ],
   "source": [
    "data = pd.read_csv('data/IG_Suicide_Final.csv')\n",
    "data.head()"
   ]
  },
  {
   "cell_type": "code",
   "execution_count": 10,
   "metadata": {},
   "outputs": [
    {
     "data": {
      "image/png": "[encoded data removed]",
      "text/plain": [
       "<Figure size 720x720 with 9 Axes>"
      ]
     },
     "metadata": {},
     "output_type": "display_data"
    }
   ],
   "source": [
    "histograms = data.hist(grid=False, figsize=(10, 10))"
   ]
  },
  {
   "cell_type": "markdown",
   "metadata": {},
   "source": [
    "<h1>Split the data into training and test data</h1>"
   ]
  },
  {
   "cell_type": "code",
   "execution_count": 12,
   "metadata": {},
   "outputs": [],
   "source": [
    "#split the data into training and test data\n",
    "train_data = data.sample(frac=0.8)\n",
    "test_data = data.drop(train_data.index)"
   ]
  },
  {
   "cell_type": "markdown",
   "metadata": {},
   "source": [
    "<h1>Choose your columns</h1>"
   ]
  },
  {
   "cell_type": "code",
   "execution_count": 13,
   "metadata": {},
   "outputs": [],
   "source": [
    "#match fields for comparison\n",
    "input_param_name = 'IG_user_rate'\n",
    "output_param_name = 'SUICIDE_RATE'"
   ]
  },
  {
   "cell_type": "markdown",
   "metadata": {},
   "source": [
    "<h1>Split the Data into Input and Output</h1>"
   ]
  },
  {
   "cell_type": "code",
   "execution_count": 15,
   "metadata": {},
   "outputs": [],
   "source": [
    "#split into input and output\n",
    "x_train = train_data[[input_param_name]].values\n",
    "y_train = train_data[[output_param_name]].values"
   ]
  },
  {
   "cell_type": "code",
   "execution_count": 16,
   "metadata": {},
   "outputs": [],
   "source": [
    "#split test set input and output\n",
    "x_test = test_data[[input_param_name]].values\n",
    "y_test = test_data[[output_param_name]].values"
   ]
  },
  {
   "cell_type": "markdown",
   "metadata": {},
   "source": [
    "<h1>Plot the data</h1>"
   ]
  },
  {
   "cell_type": "code",
   "execution_count": 18,
   "metadata": {},
   "outputs": [
    {
     "data": {
      "image/png": "[encoded data removed]",
      "text/plain": [
       "<Figure size 432x288 with 1 Axes>"
      ]
     },
     "metadata": {},
     "output_type": "display_data"
    }
   ],
   "source": [
    "plt.scatter(x_train, y_train, label='Training Dataset')\n",
    "plt.scatter(x_test, y_test, label='Test Dataset')\n",
    "plt.xlabel(input_param_name)\n",
    "plt.ylabel(output_param_name)\n",
    "plt.title('IG User Adoption and Suicide Rates')\n",
    "plt.legend()\n",
    "plt.show()"
   ]
  },
  {
   "cell_type": "markdown",
   "metadata": {},
   "source": [
    "<h1>Not.Looking.Very.Good. R value -.29</h1>"
   ]
  },
  {
   "cell_type": "code",
   "execution_count": null,
   "metadata": {},
   "outputs": [],
   "source": []
  }
 ],
 "metadata": {
  "kernelspec": {
   "display_name": "Python 3",
   "language": "python",
   "name": "python3"
  },
  "language_info": {
   "codemirror_mode": {
    "name": "ipython",
    "version": 3
   },
   "file_extension": ".py",
   "mimetype": "text/x-python",
   "name": "python",
   "nbconvert_exporter": "python",
   "pygments_lexer": "ipython3",
   "version": "3.6.5"
  }
 },
 "nbformat": 4,
 "nbformat_minor": 2
}

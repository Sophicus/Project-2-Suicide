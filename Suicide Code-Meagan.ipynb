{
 "cells": [
  {
   "cell_type": "markdown",
   "metadata": {},
   "source": [
    "## Suicides vs The Freedom Index and The Internet"
   ]
  },
  {
   "cell_type": "code",
   "execution_count": 1,
   "metadata": {},
   "outputs": [],
   "source": [
    "import matplotlib.pyplot as plt\n",
    "import pandas as pd\n",
    "import numpy as np"
   ]
  },
  {
   "cell_type": "markdown",
   "metadata": {},
   "source": [
    "### Suicide Dataset"
   ]
  },
  {
   "cell_type": "code",
   "execution_count": 4,
   "metadata": {},
   "outputs": [
    {
     "data": {
      "text/html": [
       "<div>\n",
       "<style scoped>\n",
       "    .dataframe tbody tr th:only-of-type {\n",
       "        vertical-align: middle;\n",
       "    }\n",
       "\n",
       "    .dataframe tbody tr th {\n",
       "        vertical-align: top;\n",
       "    }\n",
       "\n",
       "    .dataframe thead th {\n",
       "        text-align: right;\n",
       "    }\n",
       "</style>\n",
       "<table border=\"1\" class=\"dataframe\">\n",
       "  <thead>\n",
       "    <tr style=\"text-align: right;\">\n",
       "      <th></th>\n",
       "      <th>country</th>\n",
       "      <th>year</th>\n",
       "      <th>sex</th>\n",
       "      <th>age</th>\n",
       "      <th>suicides_no</th>\n",
       "      <th>population</th>\n",
       "      <th>suicides/100k pop</th>\n",
       "      <th>country-year</th>\n",
       "      <th>HDI for year</th>\n",
       "      <th>gdp_for_year ($)</th>\n",
       "      <th>gdp_per_capita ($)</th>\n",
       "      <th>generation</th>\n",
       "    </tr>\n",
       "  </thead>\n",
       "  <tbody>\n",
       "    <tr>\n",
       "      <th>0</th>\n",
       "      <td>Albania</td>\n",
       "      <td>1987</td>\n",
       "      <td>male</td>\n",
       "      <td>15-24 years</td>\n",
       "      <td>21</td>\n",
       "      <td>312900</td>\n",
       "      <td>6.71</td>\n",
       "      <td>Albania1987</td>\n",
       "      <td>NaN</td>\n",
       "      <td>2,156,624,900</td>\n",
       "      <td>796</td>\n",
       "      <td>Generation X</td>\n",
       "    </tr>\n",
       "    <tr>\n",
       "      <th>1</th>\n",
       "      <td>Albania</td>\n",
       "      <td>1987</td>\n",
       "      <td>male</td>\n",
       "      <td>35-54 years</td>\n",
       "      <td>16</td>\n",
       "      <td>308000</td>\n",
       "      <td>5.19</td>\n",
       "      <td>Albania1987</td>\n",
       "      <td>NaN</td>\n",
       "      <td>2,156,624,900</td>\n",
       "      <td>796</td>\n",
       "      <td>Silent</td>\n",
       "    </tr>\n",
       "    <tr>\n",
       "      <th>2</th>\n",
       "      <td>Albania</td>\n",
       "      <td>1987</td>\n",
       "      <td>female</td>\n",
       "      <td>15-24 years</td>\n",
       "      <td>14</td>\n",
       "      <td>289700</td>\n",
       "      <td>4.83</td>\n",
       "      <td>Albania1987</td>\n",
       "      <td>NaN</td>\n",
       "      <td>2,156,624,900</td>\n",
       "      <td>796</td>\n",
       "      <td>Generation X</td>\n",
       "    </tr>\n",
       "  </tbody>\n",
       "</table>\n",
       "</div>"
      ],
      "text/plain": [
       "   country  year     sex          age  suicides_no  population  \\\n",
       "0  Albania  1987    male  15-24 years           21      312900   \n",
       "1  Albania  1987    male  35-54 years           16      308000   \n",
       "2  Albania  1987  female  15-24 years           14      289700   \n",
       "\n",
       "   suicides/100k pop country-year  HDI for year  gdp_for_year ($)   \\\n",
       "0               6.71  Albania1987           NaN      2,156,624,900   \n",
       "1               5.19  Albania1987           NaN      2,156,624,900   \n",
       "2               4.83  Albania1987           NaN      2,156,624,900   \n",
       "\n",
       "   gdp_per_capita ($)    generation  \n",
       "0                 796  Generation X  \n",
       "1                 796        Silent  \n",
       "2                 796  Generation X  "
      ]
     },
     "execution_count": 4,
     "metadata": {},
     "output_type": "execute_result"
    }
   ],
   "source": [
    "suicide_df = pd.read_csv('suicide-rates-1985-2016.csv')\n",
    "suicide_df.head(3)"
   ]
  },
  {
   "cell_type": "code",
   "execution_count": 5,
   "metadata": {},
   "outputs": [
    {
     "data": {
      "text/html": [
       "<div>\n",
       "<style scoped>\n",
       "    .dataframe tbody tr th:only-of-type {\n",
       "        vertical-align: middle;\n",
       "    }\n",
       "\n",
       "    .dataframe tbody tr th {\n",
       "        vertical-align: top;\n",
       "    }\n",
       "\n",
       "    .dataframe thead th {\n",
       "        text-align: right;\n",
       "    }\n",
       "</style>\n",
       "<table border=\"1\" class=\"dataframe\">\n",
       "  <thead>\n",
       "    <tr style=\"text-align: right;\">\n",
       "      <th></th>\n",
       "      <th>country</th>\n",
       "      <th>year</th>\n",
       "      <th>sex</th>\n",
       "      <th>age</th>\n",
       "      <th>suicides_no</th>\n",
       "      <th>population</th>\n",
       "      <th>suicides/100k pop</th>\n",
       "      <th>country-year</th>\n",
       "      <th>HDI for year</th>\n",
       "      <th>gdp_for_year ($)</th>\n",
       "      <th>gdp_per_capita ($)</th>\n",
       "      <th>generation</th>\n",
       "    </tr>\n",
       "  </thead>\n",
       "  <tbody>\n",
       "    <tr>\n",
       "      <th>576</th>\n",
       "      <td>Antigua and Barbuda</td>\n",
       "      <td>2015</td>\n",
       "      <td>female</td>\n",
       "      <td>55-74 years</td>\n",
       "      <td>1</td>\n",
       "      <td>6403</td>\n",
       "      <td>15.62</td>\n",
       "      <td>Antigua and Barbuda2015</td>\n",
       "      <td>NaN</td>\n",
       "      <td>1,364,863,037</td>\n",
       "      <td>14853</td>\n",
       "      <td>Boomers</td>\n",
       "    </tr>\n",
       "    <tr>\n",
       "      <th>577</th>\n",
       "      <td>Antigua and Barbuda</td>\n",
       "      <td>2015</td>\n",
       "      <td>female</td>\n",
       "      <td>15-24 years</td>\n",
       "      <td>0</td>\n",
       "      <td>8561</td>\n",
       "      <td>0.00</td>\n",
       "      <td>Antigua and Barbuda2015</td>\n",
       "      <td>NaN</td>\n",
       "      <td>1,364,863,037</td>\n",
       "      <td>14853</td>\n",
       "      <td>Millenials</td>\n",
       "    </tr>\n",
       "    <tr>\n",
       "      <th>578</th>\n",
       "      <td>Antigua and Barbuda</td>\n",
       "      <td>2015</td>\n",
       "      <td>female</td>\n",
       "      <td>25-34 years</td>\n",
       "      <td>0</td>\n",
       "      <td>7740</td>\n",
       "      <td>0.00</td>\n",
       "      <td>Antigua and Barbuda2015</td>\n",
       "      <td>NaN</td>\n",
       "      <td>1,364,863,037</td>\n",
       "      <td>14853</td>\n",
       "      <td>Millenials</td>\n",
       "    </tr>\n",
       "  </tbody>\n",
       "</table>\n",
       "</div>"
      ],
      "text/plain": [
       "                 country  year     sex          age  suicides_no  population  \\\n",
       "576  Antigua and Barbuda  2015  female  55-74 years            1        6403   \n",
       "577  Antigua and Barbuda  2015  female  15-24 years            0        8561   \n",
       "578  Antigua and Barbuda  2015  female  25-34 years            0        7740   \n",
       "\n",
       "     suicides/100k pop             country-year  HDI for year  \\\n",
       "576              15.62  Antigua and Barbuda2015           NaN   \n",
       "577               0.00  Antigua and Barbuda2015           NaN   \n",
       "578               0.00  Antigua and Barbuda2015           NaN   \n",
       "\n",
       "     gdp_for_year ($)   gdp_per_capita ($)  generation  \n",
       "576      1,364,863,037               14853     Boomers  \n",
       "577      1,364,863,037               14853  Millenials  \n",
       "578      1,364,863,037               14853  Millenials  "
      ]
     },
     "execution_count": 5,
     "metadata": {},
     "output_type": "execute_result"
    }
   ],
   "source": [
    "suicides2015_df = suicide_df.loc[suicide_df['year'] == 2015]\n",
    "suicides2015_df.head(3)"
   ]
  },
  {
   "cell_type": "code",
   "execution_count": 6,
   "metadata": {},
   "outputs": [
    {
     "data": {
      "text/html": [
       "<div>\n",
       "<style scoped>\n",
       "    .dataframe tbody tr th:only-of-type {\n",
       "        vertical-align: middle;\n",
       "    }\n",
       "\n",
       "    .dataframe tbody tr th {\n",
       "        vertical-align: top;\n",
       "    }\n",
       "\n",
       "    .dataframe thead th {\n",
       "        text-align: right;\n",
       "    }\n",
       "</style>\n",
       "<table border=\"1\" class=\"dataframe\">\n",
       "  <thead>\n",
       "    <tr style=\"text-align: right;\">\n",
       "      <th></th>\n",
       "      <th>suicides/100k pop</th>\n",
       "    </tr>\n",
       "    <tr>\n",
       "      <th>country</th>\n",
       "      <th></th>\n",
       "    </tr>\n",
       "  </thead>\n",
       "  <tbody>\n",
       "    <tr>\n",
       "      <th>Antigua and Barbuda</th>\n",
       "      <td>1.301667</td>\n",
       "    </tr>\n",
       "    <tr>\n",
       "      <th>Argentina</th>\n",
       "      <td>9.344167</td>\n",
       "    </tr>\n",
       "    <tr>\n",
       "      <th>Armenia</th>\n",
       "      <td>3.773333</td>\n",
       "    </tr>\n",
       "  </tbody>\n",
       "</table>\n",
       "</div>"
      ],
      "text/plain": [
       "                     suicides/100k pop\n",
       "country                               \n",
       "Antigua and Barbuda           1.301667\n",
       "Argentina                     9.344167\n",
       "Armenia                       3.773333"
      ]
     },
     "execution_count": 6,
     "metadata": {},
     "output_type": "execute_result"
    }
   ],
   "source": [
    "suicides2015_grp = suicides2015_df.groupby(['country']).agg({'suicides/100k pop': 'mean'})\n",
    "suicides2015_grp.head(3)"
   ]
  },
  {
   "cell_type": "markdown",
   "metadata": {},
   "source": [
    "### Freedom of the World Dataset"
   ]
  },
  {
   "cell_type": "code",
   "execution_count": 10,
   "metadata": {},
   "outputs": [
    {
     "data": {
      "text/html": [
       "<div>\n",
       "<style scoped>\n",
       "    .dataframe tbody tr th:only-of-type {\n",
       "        vertical-align: middle;\n",
       "    }\n",
       "\n",
       "    .dataframe tbody tr th {\n",
       "        vertical-align: top;\n",
       "    }\n",
       "\n",
       "    .dataframe thead th {\n",
       "        text-align: right;\n",
       "    }\n",
       "</style>\n",
       "<table border=\"1\" class=\"dataframe\">\n",
       "  <thead>\n",
       "    <tr style=\"text-align: right;\">\n",
       "      <th></th>\n",
       "      <th>PR</th>\n",
       "      <th>CL</th>\n",
       "      <th>status</th>\n",
       "    </tr>\n",
       "    <tr>\n",
       "      <th>country</th>\n",
       "      <th></th>\n",
       "      <th></th>\n",
       "      <th></th>\n",
       "    </tr>\n",
       "  </thead>\n",
       "  <tbody>\n",
       "    <tr>\n",
       "      <th>Afghanistan</th>\n",
       "      <td>6</td>\n",
       "      <td>6</td>\n",
       "      <td>NF</td>\n",
       "    </tr>\n",
       "    <tr>\n",
       "      <th>Albania</th>\n",
       "      <td>3</td>\n",
       "      <td>3</td>\n",
       "      <td>PF</td>\n",
       "    </tr>\n",
       "    <tr>\n",
       "      <th>Algeria</th>\n",
       "      <td>6</td>\n",
       "      <td>5</td>\n",
       "      <td>NF</td>\n",
       "    </tr>\n",
       "  </tbody>\n",
       "</table>\n",
       "</div>"
      ],
      "text/plain": [
       "            PR CL status\n",
       "country                 \n",
       "Afghanistan  6  6     NF\n",
       "Albania      3  3     PF\n",
       "Algeria      6  5     NF"
      ]
     },
     "execution_count": 10,
     "metadata": {},
     "output_type": "execute_result"
    }
   ],
   "source": [
    "fow_df = pd.read_csv('Freedom of the World Index 2015.csv')\n",
    "fow_df = fow_df.rename(index=str, columns={'Country': 'country', 'Status': 'status'})\n",
    "fow_df.set_index('country', inplace=True)\n",
    "fow_df.head(3)"
   ]
  },
  {
   "cell_type": "markdown",
   "metadata": {},
   "source": [
    "#### Freedom and Suicide data join"
   ]
  },
  {
   "cell_type": "code",
   "execution_count": 13,
   "metadata": {},
   "outputs": [
    {
     "data": {
      "text/html": [
       "<div>\n",
       "<style scoped>\n",
       "    .dataframe tbody tr th:only-of-type {\n",
       "        vertical-align: middle;\n",
       "    }\n",
       "\n",
       "    .dataframe tbody tr th {\n",
       "        vertical-align: top;\n",
       "    }\n",
       "\n",
       "    .dataframe thead th {\n",
       "        text-align: right;\n",
       "    }\n",
       "</style>\n",
       "<table border=\"1\" class=\"dataframe\">\n",
       "  <thead>\n",
       "    <tr style=\"text-align: right;\">\n",
       "      <th></th>\n",
       "      <th>country</th>\n",
       "      <th>suicides/100k pop</th>\n",
       "      <th>PR</th>\n",
       "      <th>CL</th>\n",
       "      <th>status</th>\n",
       "    </tr>\n",
       "  </thead>\n",
       "  <tbody>\n",
       "    <tr>\n",
       "      <th>0</th>\n",
       "      <td>Antigua and Barbuda</td>\n",
       "      <td>1.301667</td>\n",
       "      <td>2</td>\n",
       "      <td>2</td>\n",
       "      <td>F</td>\n",
       "    </tr>\n",
       "    <tr>\n",
       "      <th>1</th>\n",
       "      <td>Argentina</td>\n",
       "      <td>9.344167</td>\n",
       "      <td>2</td>\n",
       "      <td>2</td>\n",
       "      <td>F</td>\n",
       "    </tr>\n",
       "    <tr>\n",
       "      <th>2</th>\n",
       "      <td>Armenia</td>\n",
       "      <td>3.773333</td>\n",
       "      <td>5</td>\n",
       "      <td>4</td>\n",
       "      <td>PF</td>\n",
       "    </tr>\n",
       "  </tbody>\n",
       "</table>\n",
       "</div>"
      ],
      "text/plain": [
       "               country  suicides/100k pop  PR  CL status\n",
       "0  Antigua and Barbuda           1.301667   2   2      F\n",
       "1            Argentina           9.344167   2   2      F\n",
       "2              Armenia           3.773333   5   4     PF"
      ]
     },
     "execution_count": 13,
     "metadata": {},
     "output_type": "execute_result"
    }
   ],
   "source": [
    "df3 = pd.merge(suicides2015_grp, fow_df, left_index=True, right_index=True)\n",
    "\n",
    "df3.reset_index(inplace=True)\n",
    "df3 = df3.rename(index=str, columns={'index': 'country'})\n",
    "df3[['suicides/100k pop', 'PR', 'CL']] = df3[['suicides/100k pop', 'PR', 'CL']].apply(pd.to_numeric)\n",
    "df3.head(3)"
   ]
  },
  {
   "cell_type": "markdown",
   "metadata": {},
   "source": [
    "## Graph 1: Suicides vs Freedom"
   ]
  },
  {
   "cell_type": "code",
   "execution_count": 16,
   "metadata": {},
   "outputs": [],
   "source": [
    "f_df = df3.loc[df3['status'] == 'F', :]\n",
    "pf_df = df3.loc[df3['status'] == 'PF', :]\n",
    "nf_df = df3.loc[df3['status'] == 'NF', :]"
   ]
  },
  {
   "cell_type": "code",
   "execution_count": 26,
   "metadata": {},
   "outputs": [
    {
     "data": {
      "image/png": "[encoded data removed]",
      "text/plain": [
       "<Figure size 1152x576 with 1 Axes>"
      ]
     },
     "metadata": {},
     "output_type": "display_data"
    }
   ],
   "source": [
    "# Free countries plot\n",
    "f_x = f_df['country']\n",
    "f_y = f_df['suicides/100k pop']\n",
    "# Partly Free countries plot\n",
    "pf_x = pf_df['country']\n",
    "pf_y = pf_df['suicides/100k pop']\n",
    "# Not Free countries plot\n",
    "nf_x = nf_df['country']\n",
    "nf_y = nf_df['suicides/100k pop']\n",
    "\n",
    "plt.figure(figsize=(16,8))\n",
    "plt.scatter(f_x, f_y, s=150, c=\"lawngreen\", alpha=0.8, edgecolors=\"black\", linewidths=0.25, label=\"Free\").axes.xaxis.set_ticklabels([])\n",
    "plt.scatter(pf_x, pf_y,s=150, c=\"gold\", alpha=0.8, edgecolors=\"black\", linewidths=0.25, label=\"Partly Free\").axes.xaxis.set_ticklabels([])\n",
    "plt.scatter(nf_x, nf_y, s=150, c=\"tomato\", alpha=0.8, edgecolors=\"black\", linewidths=0.25, label=\"Not Free\").axes.xaxis.set_ticklabels([])\n",
    "\n",
    "plt.title(\"Freedom of the World Index and Suicides per 100k (2015)\", fontsize='large')\n",
    "plt.xlabel(\"Countries\", fontsize='large')\n",
    "plt.ylabel(\"Suicides per 100/k\", fontsize='large')\n",
    "plt.grid(alpha=.9, lw=.4)\n",
    "\n",
    "lgnd = plt.legend(markerscale=.5, scatterpoints=1, numpoints=1, mode='expanded', fontsize='large')\n",
    "lgnd.legendHandles[0]._sizes = [100]\n",
    "lgnd.legendHandles[1]._sizes = [100]\n",
    "lgnd.legendHandles[2]._sizes = [100]\n",
    "\n",
    "plt.savefig(\"Freedom of the World Index and Suicides per 100k (2015) Scatterplot.png\")\n",
    "plt.show()"
   ]
  },
  {
   "cell_type": "markdown",
   "metadata": {},
   "source": [
    "### World Development Indicators Dataset"
   ]
  },
  {
   "cell_type": "code",
   "execution_count": 28,
   "metadata": {},
   "outputs": [
    {
     "data": {
      "text/html": [
       "<div>\n",
       "<style scoped>\n",
       "    .dataframe tbody tr th:only-of-type {\n",
       "        vertical-align: middle;\n",
       "    }\n",
       "\n",
       "    .dataframe tbody tr th {\n",
       "        vertical-align: top;\n",
       "    }\n",
       "\n",
       "    .dataframe thead th {\n",
       "        text-align: right;\n",
       "    }\n",
       "</style>\n",
       "<table border=\"1\" class=\"dataframe\">\n",
       "  <thead>\n",
       "    <tr style=\"text-align: right;\">\n",
       "      <th></th>\n",
       "      <th>CountryName</th>\n",
       "      <th>CountryCode</th>\n",
       "      <th>IndicatorName</th>\n",
       "      <th>IndicatorCode</th>\n",
       "      <th>Year</th>\n",
       "      <th>Value</th>\n",
       "    </tr>\n",
       "  </thead>\n",
       "  <tbody>\n",
       "    <tr>\n",
       "      <th>5641696</th>\n",
       "      <td>Arab World</td>\n",
       "      <td>ARB</td>\n",
       "      <td>Bird species, threatened</td>\n",
       "      <td>EN.BIR.THRD.NO</td>\n",
       "      <td>2015</td>\n",
       "      <td>297.000000</td>\n",
       "    </tr>\n",
       "    <tr>\n",
       "      <th>5641697</th>\n",
       "      <td>Arab World</td>\n",
       "      <td>ARB</td>\n",
       "      <td>Business extent of disclosure index (0=less di...</td>\n",
       "      <td>IC.BUS.DISC.XQ</td>\n",
       "      <td>2015</td>\n",
       "      <td>5.666667</td>\n",
       "    </tr>\n",
       "    <tr>\n",
       "      <th>5641698</th>\n",
       "      <td>Arab World</td>\n",
       "      <td>ARB</td>\n",
       "      <td>Cost of business start-up procedures (% of GNI...</td>\n",
       "      <td>IC.REG.COST.PC.ZS</td>\n",
       "      <td>2015</td>\n",
       "      <td>31.142857</td>\n",
       "    </tr>\n",
       "  </tbody>\n",
       "</table>\n",
       "</div>"
      ],
      "text/plain": [
       "        CountryName CountryCode  \\\n",
       "5641696  Arab World         ARB   \n",
       "5641697  Arab World         ARB   \n",
       "5641698  Arab World         ARB   \n",
       "\n",
       "                                             IndicatorName      IndicatorCode  \\\n",
       "5641696                           Bird species, threatened     EN.BIR.THRD.NO   \n",
       "5641697  Business extent of disclosure index (0=less di...     IC.BUS.DISC.XQ   \n",
       "5641698  Cost of business start-up procedures (% of GNI...  IC.REG.COST.PC.ZS   \n",
       "\n",
       "         Year       Value  \n",
       "5641696  2015  297.000000  \n",
       "5641697  2015    5.666667  \n",
       "5641698  2015   31.142857  "
      ]
     },
     "execution_count": 28,
     "metadata": {},
     "output_type": "execute_result"
    }
   ],
   "source": [
    "indicators_df = pd.read_csv('Indicators.csv')\n",
    "indicators_sm_df = indicators_df.loc[indicators_df['Year'] == 2015]\n",
    "indicators_sm_df.head(3)"
   ]
  },
  {
   "cell_type": "markdown",
   "metadata": {},
   "source": [
    "####  Broadband Internet Subscriptions (per 100 people)"
   ]
  },
  {
   "cell_type": "code",
   "execution_count": 30,
   "metadata": {},
   "outputs": [
    {
     "data": {
      "text/html": [
       "<div>\n",
       "<style scoped>\n",
       "    .dataframe tbody tr th:only-of-type {\n",
       "        vertical-align: middle;\n",
       "    }\n",
       "\n",
       "    .dataframe tbody tr th {\n",
       "        vertical-align: top;\n",
       "    }\n",
       "\n",
       "    .dataframe thead th {\n",
       "        text-align: right;\n",
       "    }\n",
       "</style>\n",
       "<table border=\"1\" class=\"dataframe\">\n",
       "  <thead>\n",
       "    <tr style=\"text-align: right;\">\n",
       "      <th></th>\n",
       "      <th>CountryCode</th>\n",
       "      <th>IndicatorName</th>\n",
       "      <th>IndicatorCode</th>\n",
       "      <th>Year</th>\n",
       "      <th>Value</th>\n",
       "    </tr>\n",
       "    <tr>\n",
       "      <th>country</th>\n",
       "      <th></th>\n",
       "      <th></th>\n",
       "      <th></th>\n",
       "      <th></th>\n",
       "      <th></th>\n",
       "    </tr>\n",
       "  </thead>\n",
       "  <tbody>\n",
       "    <tr>\n",
       "      <th>Arab World</th>\n",
       "      <td>ARB</td>\n",
       "      <td>Fixed broadband subscriptions (per 100 people)</td>\n",
       "      <td>IT.NET.BBND.P2</td>\n",
       "      <td>2014</td>\n",
       "      <td>4.374855</td>\n",
       "    </tr>\n",
       "    <tr>\n",
       "      <th>Caribbean small states</th>\n",
       "      <td>CSS</td>\n",
       "      <td>Fixed broadband subscriptions (per 100 people)</td>\n",
       "      <td>IT.NET.BBND.P2</td>\n",
       "      <td>2014</td>\n",
       "      <td>10.023820</td>\n",
       "    </tr>\n",
       "    <tr>\n",
       "      <th>Central Europe and the Baltics</th>\n",
       "      <td>CEB</td>\n",
       "      <td>Fixed broadband subscriptions (per 100 people)</td>\n",
       "      <td>IT.NET.BBND.P2</td>\n",
       "      <td>2014</td>\n",
       "      <td>23.448559</td>\n",
       "    </tr>\n",
       "  </tbody>\n",
       "</table>\n",
       "</div>"
      ],
      "text/plain": [
       "                               CountryCode  \\\n",
       "country                                      \n",
       "Arab World                             ARB   \n",
       "Caribbean small states                 CSS   \n",
       "Central Europe and the Baltics         CEB   \n",
       "\n",
       "                                                                 IndicatorName  \\\n",
       "country                                                                          \n",
       "Arab World                      Fixed broadband subscriptions (per 100 people)   \n",
       "Caribbean small states          Fixed broadband subscriptions (per 100 people)   \n",
       "Central Europe and the Baltics  Fixed broadband subscriptions (per 100 people)   \n",
       "\n",
       "                                 IndicatorCode  Year      Value  \n",
       "country                                                          \n",
       "Arab World                      IT.NET.BBND.P2  2014   4.374855  \n",
       "Caribbean small states          IT.NET.BBND.P2  2014  10.023820  \n",
       "Central Europe and the Baltics  IT.NET.BBND.P2  2014  23.448559  "
      ]
     },
     "execution_count": 30,
     "metadata": {},
     "output_type": "execute_result"
    }
   ],
   "source": [
    "indicators_2014 = indicators_df.loc[indicators_df['Year'] == 2014]\n",
    "indicators_sm_df3 = indicators_2014.loc[indicators_2014['IndicatorName'] == 'Fixed broadband subscriptions (per 100 people)']\n",
    "indicators_sm_df3 = indicators_sm_df3.rename(index=str, columns={'CountryName': 'country'})\n",
    "indicators_sm_df3.set_index('country', inplace=True)\n",
    "\n",
    "indicators_sm_df3.head(3)"
   ]
  },
  {
   "cell_type": "code",
   "execution_count": 32,
   "metadata": {},
   "outputs": [
    {
     "data": {
      "text/html": [
       "<div>\n",
       "<style scoped>\n",
       "    .dataframe tbody tr th:only-of-type {\n",
       "        vertical-align: middle;\n",
       "    }\n",
       "\n",
       "    .dataframe tbody tr th {\n",
       "        vertical-align: top;\n",
       "    }\n",
       "\n",
       "    .dataframe thead th {\n",
       "        text-align: right;\n",
       "    }\n",
       "</style>\n",
       "<table border=\"1\" class=\"dataframe\">\n",
       "  <thead>\n",
       "    <tr style=\"text-align: right;\">\n",
       "      <th></th>\n",
       "      <th>CountryCode</th>\n",
       "      <th>IndicatorName</th>\n",
       "      <th>IndicatorCode</th>\n",
       "      <th>Year</th>\n",
       "      <th>Value</th>\n",
       "      <th>suicides/100k pop</th>\n",
       "    </tr>\n",
       "    <tr>\n",
       "      <th>country</th>\n",
       "      <th></th>\n",
       "      <th></th>\n",
       "      <th></th>\n",
       "      <th></th>\n",
       "      <th></th>\n",
       "      <th></th>\n",
       "    </tr>\n",
       "  </thead>\n",
       "  <tbody>\n",
       "    <tr>\n",
       "      <th>Antigua and Barbuda</th>\n",
       "      <td>ATG</td>\n",
       "      <td>Fixed broadband subscriptions (per 100 people)</td>\n",
       "      <td>IT.NET.BBND.P2</td>\n",
       "      <td>2014</td>\n",
       "      <td>15.071010</td>\n",
       "      <td>1.301667</td>\n",
       "    </tr>\n",
       "    <tr>\n",
       "      <th>Argentina</th>\n",
       "      <td>ARG</td>\n",
       "      <td>Fixed broadband subscriptions (per 100 people)</td>\n",
       "      <td>IT.NET.BBND.P2</td>\n",
       "      <td>2014</td>\n",
       "      <td>14.690050</td>\n",
       "      <td>9.344167</td>\n",
       "    </tr>\n",
       "    <tr>\n",
       "      <th>Armenia</th>\n",
       "      <td>ARM</td>\n",
       "      <td>Fixed broadband subscriptions (per 100 people)</td>\n",
       "      <td>IT.NET.BBND.P2</td>\n",
       "      <td>2014</td>\n",
       "      <td>9.133476</td>\n",
       "      <td>3.773333</td>\n",
       "    </tr>\n",
       "  </tbody>\n",
       "</table>\n",
       "</div>"
      ],
      "text/plain": [
       "                    CountryCode  \\\n",
       "country                           \n",
       "Antigua and Barbuda         ATG   \n",
       "Argentina                   ARG   \n",
       "Armenia                     ARM   \n",
       "\n",
       "                                                      IndicatorName  \\\n",
       "country                                                               \n",
       "Antigua and Barbuda  Fixed broadband subscriptions (per 100 people)   \n",
       "Argentina            Fixed broadband subscriptions (per 100 people)   \n",
       "Armenia              Fixed broadband subscriptions (per 100 people)   \n",
       "\n",
       "                      IndicatorCode  Year      Value  suicides/100k pop  \n",
       "country                                                                  \n",
       "Antigua and Barbuda  IT.NET.BBND.P2  2014  15.071010           1.301667  \n",
       "Argentina            IT.NET.BBND.P2  2014  14.690050           9.344167  \n",
       "Armenia              IT.NET.BBND.P2  2014   9.133476           3.773333  "
      ]
     },
     "execution_count": 32,
     "metadata": {},
     "output_type": "execute_result"
    }
   ],
   "source": [
    "join_internet = pd.merge(indicators_sm_df3, suicides2015_grp, left_index=True, right_index=True)\n",
    "join_internet.head(3)"
   ]
  },
  {
   "cell_type": "markdown",
   "metadata": {},
   "source": [
    "## Graph 2: Suicides vs Internet"
   ]
  },
  {
   "cell_type": "code",
   "execution_count": 40,
   "metadata": {},
   "outputs": [
    {
     "data": {
      "image/png": "[encoded data removed]",
      "text/plain": [
       "<Figure size 1008x720 with 1 Axes>"
      ]
     },
     "metadata": {},
     "output_type": "display_data"
    }
   ],
   "source": [
    "x = join_internet[\"Value\"]\n",
    "y = join_internet[\"suicides/100k pop\"]\n",
    "\n",
    "plt.figure(figsize=(14,10))\n",
    "plt.scatter(x, y, s=150, c='sandybrown', alpha=0.8, edgecolors='black', linewidths=0.25)\n",
    "\n",
    "plt.title('Suicide per Internet', fontsize='large')\n",
    "plt.xlabel('Internet per 100 pop', fontsize='large')\n",
    "plt.ylabel('Suicides per 100k', fontsize='large')\n",
    "plt.grid(alpha=.9, lw=.4)\n",
    "\n",
    "plt.savefig(\"Broadband Internet and Suicides per 100k (2014).png\")\n",
    "plt.show()"
   ]
  },
  {
   "cell_type": "markdown",
   "metadata": {},
   "source": [
    "#### Graph 2 with Seaborn and Regression"
   ]
  },
  {
   "cell_type": "code",
   "execution_count": 45,
   "metadata": {},
   "outputs": [
    {
     "ename": "AttributeError",
     "evalue": "module 'seaborn' has no attribute 'plt'",
     "output_type": "error",
     "traceback": [
      "\u001b[1;31m---------------------------------------------------------------------------\u001b[0m",
      "\u001b[1;31mAttributeError\u001b[0m                            Traceback (most recent call last)",
      "\u001b[1;32m<ipython-input-45-3b20c4e6c369>\u001b[0m in \u001b[0;36m<module>\u001b[1;34m()\u001b[0m\n\u001b[0;32m      7\u001b[0m \u001b[0mfig\u001b[0m \u001b[1;33m=\u001b[0m \u001b[0msns_plot\u001b[0m\u001b[1;33m.\u001b[0m\u001b[0mget_figure\u001b[0m\u001b[1;33m(\u001b[0m\u001b[1;33m)\u001b[0m\u001b[1;33m\u001b[0m\u001b[0m\n\u001b[0;32m      8\u001b[0m \u001b[0mfig\u001b[0m\u001b[1;33m.\u001b[0m\u001b[0msavefig\u001b[0m\u001b[1;33m(\u001b[0m\u001b[1;34m\"output.png\"\u001b[0m\u001b[1;33m)\u001b[0m\u001b[1;33m\u001b[0m\u001b[0m\n\u001b[1;32m----> 9\u001b[1;33m \u001b[0msns\u001b[0m\u001b[1;33m.\u001b[0m\u001b[0mplt\u001b[0m\u001b[1;33m.\u001b[0m\u001b[0mshow\u001b[0m\u001b[1;33m(\u001b[0m\u001b[1;33m)\u001b[0m\u001b[1;33m\u001b[0m\u001b[0m\n\u001b[0m",
      "\u001b[1;31mAttributeError\u001b[0m: module 'seaborn' has no attribute 'plt'"
     ]
    },
    {
     "data": {
      "image/png": "[encoded data removed]",
      "text/plain": [
       "<Figure size 432x288 with 1 Axes>"
      ]
     },
     "metadata": {},
     "output_type": "display_data"
    }
   ],
   "source": [
    "import seaborn as sns\n",
    "\n",
    "x = join_internet[\"Value\"]\n",
    "y = join_internet[\"suicides/100k pop\"]\n",
    "\n",
    "sns_plot = sns.regplot(x,y, scatter_kws={\"color\":\"darkviolet\",\"alpha\":0.7,\"s\":150})\n",
    "fig = sns_plot.get_figure()\n",
    "fig.savefig(\"output.png\")\n",
    "sns.plt.show()"
   ]
  },
  {
   "cell_type": "code",
   "execution_count": null,
   "metadata": {},
   "outputs": [],
   "source": []
  }
 ],
 "metadata": {
  "kernelspec": {
   "display_name": "Python 3",
   "language": "python",
   "name": "python3"
  },
  "language_info": {
   "codemirror_mode": {
    "name": "ipython",
    "version": 3
   },
   "file_extension": ".py",
   "mimetype": "text/x-python",
   "name": "python",
   "nbconvert_exporter": "python",
   "pygments_lexer": "ipython3",
   "version": "3.6.5"
  }
 },
 "nbformat": 4,
 "nbformat_minor": 2
}
